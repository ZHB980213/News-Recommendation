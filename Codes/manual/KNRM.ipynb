{
 "metadata": {
  "language_info": {
   "codemirror_mode": {
    "name": "ipython",
    "version": 3
   },
   "file_extension": ".py",
   "mimetype": "text/x-python",
   "name": "python",
   "nbconvert_exporter": "python",
   "pygments_lexer": "ipython3",
   "version": "3.7.9-final"
  },
  "orig_nbformat": 2,
  "kernelspec": {
   "name": "python37964bit4c03300bedca44f8b0013abe02048abc",
   "display_name": "Python 3.7.9 64-bit",
   "language": "python"
  }
 },
 "nbformat": 4,
 "nbformat_minor": 2,
 "cells": [
  {
   "cell_type": "code",
   "execution_count": 2,
   "metadata": {},
   "outputs": [],
   "source": [
    "import os\n",
    "import sys\n",
    "os.chdir('../')\n",
    "sys.path.append('../')\n",
    "\n",
    "import torch\n",
    "from utils.utils import evaluate,train,prepare\n",
    "from models.KNRM import KNRMModel"
   ]
  },
  {
   "cell_type": "code",
   "execution_count": 1,
   "metadata": {},
   "outputs": [],
   "source": [
    "hparams = {\n",
    "    'scale':'demo',\n",
    "    'name':'knrm',\n",
    "    'epochs':7,\n",
    "    'batch_size':5,\n",
    "    'title_size':20,\n",
    "    'his_size':50,\n",
    "    'npratio':4,\n",
    "    'embedding_dim':300,\n",
    "    'metrics':'group_auc,mean_mrr,ndcg@5,ndcg@10',\n",
    "    'device':'cuda:0',\n",
    "    'attrs': ['title'],\n",
    "    'k':-1,\n",
    "    'save_step':None,\n",
    "    'save_each_epoch':False,\n",
    "    'train_embedding':False,\n",
    "}\n",
    "device = torch.device(hparams['device'])"
   ]
  },
  {
   "cell_type": "code",
   "execution_count": 3,
   "metadata": {},
   "outputs": [],
   "source": [
    "vocab, loader_train, loader_test, loader_validate = prepare(hparams, validate=True)\n",
    "knrmModel = KNRMModel(vocab=vocab,hparams=hparams).to(device)"
   ]
  },
  {
   "cell_type": "code",
   "execution_count": 4,
   "metadata": {},
   "outputs": [
    {
     "output_type": "stream",
     "name": "stdout",
     "text": [
      "training...\n",
      "epoch 0 , step 10 , loss: 1.7540: : 20it [00:03,  5.02it/s]\n",
      "epoch 1 , step 10 , loss: 1.7369: : 20it [00:03,  5.44it/s]\n",
      "epoch 2 , step 10 , loss: 1.7263: : 20it [00:03,  5.44it/s]\n",
      "epoch 3 , step 10 , loss: 1.7188: : 20it [00:03,  5.43it/s]\n",
      "epoch 4 , step 10 , loss: 1.7103: : 20it [00:03,  5.52it/s]\n",
      "epoch 5 , step 10 , loss: 1.7162: : 20it [00:03,  5.43it/s]\n",
      "epoch 6 , step 10 , loss: 1.7037: : 20it [00:03,  5.38it/s]\n",
      "0it [00:00, ?it/s]save success!\n",
      "testing...\n",
      "181it [00:08, 22.56it/s]\n",
      "0it [00:00, ?it/s]evaluation results:{'group_auc': 0.5123, 'ndcg@5': 0.2277, 'ndcg@10': 0.2927, 'mean_mrr': 0.2205}\n",
      "validating...\n",
      "753it [00:30, 24.76it/s]\n",
      "evaluation results:{'group_auc': 0.5049, 'ndcg@5': 0.2312, 'ndcg@10': 0.2959, 'mean_mrr': 0.2264}\n"
     ]
    }
   ],
   "source": [
    "train(knrmModel, hparams, loader_train, loader_test, loader_validate)"
   ]
  }
 ]
}