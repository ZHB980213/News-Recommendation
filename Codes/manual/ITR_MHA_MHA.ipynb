{
 "metadata": {
  "language_info": {
   "codemirror_mode": {
    "name": "ipython",
    "version": 3
   },
   "file_extension": ".py",
   "mimetype": "text/x-python",
   "name": "python",
   "nbconvert_exporter": "python",
   "pygments_lexer": "ipython3",
   "version": "3.7.9-final"
  },
  "orig_nbformat": 2,
  "kernelspec": {
   "name": "python37964bit4c03300bedca44f8b0013abe02048abc",
   "display_name": "Python 3.7.9 64-bit",
   "language": "python"
  }
 },
 "nbformat": 4,
 "nbformat_minor": 2,
 "cells": [
  {
   "cell_type": "code",
   "execution_count": 1,
   "metadata": {},
   "outputs": [],
   "source": [
    "import os\n",
    "import sys\n",
    "os.chdir('../')\n",
    "sys.path.append('../')\n",
    "\n",
    "import torch\n",
    "from utils.utils import evaluate,train,prepare\n",
    "from models.ITR_MHA_MHA import GCAModel"
   ]
  },
  {
   "cell_type": "code",
   "execution_count": 2,
   "metadata": {},
   "outputs": [],
   "source": [
    "hparams = {\n",
    "    'scale':'demo',\n",
    "    'name':'itr-mha-mha',\n",
    "    'batch_size':5,\n",
    "    'title_size':20,\n",
    "    'his_size':20,\n",
    "    'npratio':4,\n",
    "    'dropout_p':0.2,\n",
    "    'query_dim':200,\n",
    "    'embedding_dim':300,\n",
    "    'value_dim':16,\n",
    "    'head_num':16,\n",
    "    'epochs':5,\n",
    "    'metrics':'auc,group_auc,mean_mrr,ndcg@5,ndcg@10',\n",
    "    'device':'cuda:0',\n",
    "    'attrs': ['title'],\n",
    "    'k':-1,\n",
    "    'select':None,\n",
    "    'save_step':0,\n",
    "    'save_each_epoch':False,\n",
    "    'train_embedding':False,\n",
    "}\n",
    "device = torch.device(hparams['device']) if torch.cuda.is_available() else torch.device(\"cpu\")"
   ]
  },
  {
   "cell_type": "code",
   "execution_count": 3,
   "metadata": {},
   "outputs": [],
   "source": [
    "vocab, loaders = prepare(hparams)"
   ]
  },
  {
   "cell_type": "code",
   "execution_count": 4,
   "metadata": {},
   "outputs": [],
   "source": [
    "gcaModel = GCAModel(vocab=vocab,hparams=hparams).to(device).train()"
   ]
  },
  {
   "cell_type": "code",
   "execution_count": 5,
   "metadata": {},
   "outputs": [
    {
     "output_type": "stream",
     "name": "stdout",
     "text": [
      "training...\n",
      "epoch 0 , step 300 , loss: 1.5663: : 400it [02:06,  3.17it/s]\n",
      "epoch 1 , step 300 , loss: 1.5196: : 400it [02:07,  3.14it/s]\n",
      "epoch 2 , step 300 , loss: 1.4950: : 400it [02:06,  3.17it/s]\n",
      "epoch 3 , step 300 , loss: 1.4656: : 400it [02:05,  3.20it/s]\n",
      "epoch 4 , step 300 , loss: 1.4383: : 400it [02:06,  3.15it/s]\n",
      "0it [00:00, ?it/s]testing...\n",
      "3622it [08:03,  7.48it/s]\n",
      "0it [00:00, ?it/s]evaluation results:{'group_auc': 0.5937, 'ndcg@5': 0.2678, 'ndcg@10': 0.336, 'mean_mrr': 0.2542}\n",
      "validating...\n",
      "15062it [35:16,  7.12it/s]\n",
      "evaluation results:{'group_auc': 0.6635, 'ndcg@5': 0.3631, 'ndcg@10': 0.4162, 'mean_mrr': 0.338}\n"
     ]
    }
   ],
   "source": [
    "train(gcaModel, hparams, loaders[0], loaders[1], loaders[2])"
   ]
  },
  {
   "cell_type": "code",
   "execution_count": null,
   "metadata": {},
   "outputs": [],
   "source": []
  }
 ]
}