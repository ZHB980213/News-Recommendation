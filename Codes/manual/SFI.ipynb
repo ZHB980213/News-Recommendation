{
 "metadata": {
  "language_info": {
   "codemirror_mode": {
    "name": "ipython",
    "version": 3
   },
   "file_extension": ".py",
   "mimetype": "text/x-python",
   "name": "python",
   "nbconvert_exporter": "python",
   "pygments_lexer": "ipython3",
   "version": "3.8.5-final"
  },
  "orig_nbformat": 2,
  "kernelspec": {
   "name": "python3",
   "display_name": "Python 3",
   "language": "python"
  }
 },
 "nbformat": 4,
 "nbformat_minor": 2,
 "cells": [
  {
   "cell_type": "code",
   "execution_count": 1,
   "metadata": {},
   "outputs": [],
   "source": [
    "import os\n",
    "import sys\n",
    "os.chdir('../')\n",
    "sys.path.append('../')\n",
    "\n",
    "import torch\n",
    "from utils.utils import train,prepare\n",
    "from models.Encoders import MHA_Encoder, FIM_Encoder, NPA_Encoder, Pipeline_Encoder\n",
    "from models.SFI import SFI_gating"
   ]
  },
  {
   "cell_type": "code",
   "execution_count": 2,
   "metadata": {},
   "outputs": [],
   "source": [
    "name='sfi'\n",
    "hparams = {\n",
    "    'scale':'demo',\n",
    "    'mode':'train',\n",
    "    'batch_size':10,\n",
    "    'title_size':20,\n",
    "    'his_size':50,\n",
    "    'npratio':4,\n",
    "    'dropout_p':0.2,\n",
    "    'embedding_dim':300,\n",
    "    'value_dim':16,\n",
    "    'query_dim':200,\n",
    "    'head_num':16,\n",
    "    'filter_num':150,\n",
    "    'level':1,\n",
    "    'epochs':1,\n",
    "    'metrics':'auc,mean_mrr,ndcg@5,ndcg@10',\n",
    "    'device':'cuda:1',\n",
    "    'attrs': ['title'],\n",
    "    'k':10,\n",
    "    'save_step':[0],\n",
    "    'train_embedding':True,\n",
    "    'news_id':True,\n",
    "    'validate':False\n",
    "}\n",
    "torch.cuda.set_device(1)"
   ]
  },
  {
   "cell_type": "code",
   "execution_count": 3,
   "metadata": {},
   "outputs": [
    {
     "output_type": "stream",
     "name": "stderr",
     "text": [
      "[2021-03-15 03:21:48,191] INFO (root) Hyper Parameters are\n",
      "{'scale': 'demo', 'mode': 'train', 'batch_size': 10, 'title_size': 20, 'his_size': 50, 'npratio': 4, 'dropout_p': 0.2, 'embedding_dim': 300, 'value_dim': 16, 'query_dim': 200, 'head_num': 16, 'filter_num': 150, 'level': 1, 'epochs': 1, 'metrics': 'auc,mean_mrr,ndcg@5,ndcg@10', 'device': 'cuda:1', 'attrs': ['title'], 'k': 10, 'save_step': [0], 'train_embedding': True, 'news_id': True, 'validate': False}\n",
      "[2021-03-15 03:21:48,192] INFO (root) preparing dataset...\n",
      "[2021-03-15 03:21:50,395] INFO (torchtext.vocab) Loading vectors from .vector_cache/glove.840B.300d.txt.pt\n"
     ]
    }
   ],
   "source": [
    "vocab, loaders = prepare(hparams)"
   ]
  },
  {
   "cell_type": "code",
   "execution_count": null,
   "metadata": {},
   "outputs": [],
   "source": [
    "hparams['select'] = 'gating'\n",
    "hparams['name'] = '-'.join([name,'mha',hparams['select']])\n",
    "mha_encoder = MHA_Encoder(hparams, vocab)\n",
    "sfi = SFI_gating(hparams, mha_encoder).to(hparams['device'])"
   ]
  },
  {
   "cell_type": "code",
   "execution_count": null,
   "metadata": {},
   "outputs": [],
   "source": [
    "train(sfi, hparams, loaders, interval=10)"
   ]
  },
  {
   "cell_type": "code",
   "execution_count": null,
   "metadata": {},
   "outputs": [],
   "source": [
    "hparams['select'] = 'gating'\n",
    "hparams['name'] = '-'.join([name,'fim',hparams['select']])\n",
    "\n",
    "fim_encoder = FIM_Encoder(hparams, vocab)\n",
    "sfi = SFI_gating(hparams, fim_encoder).to(hparams['device'])"
   ]
  },
  {
   "cell_type": "code",
   "execution_count": null,
   "metadata": {},
   "outputs": [],
   "source": [
    "train(sfi, hparams, loaders, interval=10)"
   ]
  },
  {
   "cell_type": "code",
   "execution_count": null,
   "metadata": {},
   "outputs": [],
   "source": [
    "hparams['select'] = 'gating'\n",
    "hparams['name'] = '-'.join([name,'npa',hparams['select']])\n",
    "\n",
    "hparams['user_dim'] = 200\n",
    "hparams['query_dim'] = 200\n",
    "hparams['filter_num'] = 400\n",
    "\n",
    "npa_encoder = NPA_Encoder(hparams, vocab, len(loaders[0].dataset.uid2index))\n",
    "sfi = SFI_gating(hparams, npa_encoder).to(hparams['device'])"
   ]
  },
  {
   "cell_type": "code",
   "execution_count": null,
   "metadata": {},
   "outputs": [],
   "source": [
    "train(sfi, hparams, loaders, interval=10)"
   ]
  },
  {
   "cell_type": "code",
   "execution_count": 6,
   "metadata": {},
   "outputs": [],
   "source": [
    "hparams['select'] = 'gating'\n",
    "hparams['name'] = '-'.join([name,'pipeline',hparams['select']])\n",
    "\n",
    "hparams['pipeline'] = 'sfi-fim'\n",
    "# hparams['scale'] = 'large'\n",
    "\n",
    "ppl_encoder = Pipeline_Encoder(hparams)\n",
    "sfi = SFI_gating(hparams, ppl_encoder).to(hparams['device'])"
   ]
  },
  {
   "cell_type": "code",
   "execution_count": 7,
   "metadata": {},
   "outputs": [
    {
     "output_type": "stream",
     "name": "stderr",
     "text": [
      "[2021-03-15 03:22:07,878] INFO (root) training...\n",
      "epoch 1 , step 290 , loss: 1.5724: : 298it [00:10, 28.96it/s]\n",
      "[2021-03-15 03:22:36,527] INFO (root) saved model of epoch 1\n",
      "[2021-03-15 03:22:36,537] INFO (root) evaluating...\n",
      "1815it [00:36, 49.46it/s]\n",
      "[2021-03-15 03:23:14,077] INFO (root) evaluation results:{'auc': 0.5136, 'mean_mrr': 0.2199, 'ndcg@5': 0.2257, 'ndcg@10': 0.2969, 'step': 0}\n"
     ]
    },
    {
     "output_type": "execute_result",
     "data": {
      "text/plain": [
       "SFI_gating(\n",
       "  (encoder): Pipeline_Encoder(\n",
       "    (news_repr): Embedding(101528, 150)\n",
       "    (news_embedding): Embedding(101528, 9000)\n",
       "  )\n",
       "  (softmax): Softmax(dim=-1)\n",
       "  (SeqCNN3D): Sequential(\n",
       "    (0): Conv3d(3, 32, kernel_size=[3, 3, 3], stride=(1, 1, 1), padding=(1, 1, 1))\n",
       "    (1): ReLU()\n",
       "    (2): MaxPool3d(kernel_size=[3, 3, 3], stride=[3, 3, 3], padding=0, dilation=1, ceil_mode=False)\n",
       "    (3): Conv3d(32, 16, kernel_size=[3, 3, 3], stride=(1, 1, 1), padding=(1, 1, 1))\n",
       "    (4): ReLU()\n",
       "    (5): MaxPool3d(kernel_size=[3, 3, 3], stride=[3, 3, 3], padding=0, dilation=1, ceil_mode=False)\n",
       "  )\n",
       "  (learningToRank): Linear(in_features=64, out_features=1, bias=True)\n",
       ")"
      ]
     },
     "metadata": {},
     "execution_count": 7
    }
   ],
   "source": [
    "train(sfi, hparams, loaders, interval=10)"
   ]
  },
  {
   "cell_type": "code",
   "execution_count": null,
   "metadata": {},
   "outputs": [],
   "source": []
  }
 ]
}