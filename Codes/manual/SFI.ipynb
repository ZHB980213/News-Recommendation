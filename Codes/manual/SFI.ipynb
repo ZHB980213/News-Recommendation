{
 "metadata": {
  "language_info": {
   "codemirror_mode": {
    "name": "ipython",
    "version": 3
   },
   "file_extension": ".py",
   "mimetype": "text/x-python",
   "name": "python",
   "nbconvert_exporter": "python",
   "pygments_lexer": "ipython3",
   "version": "3.8.5-final"
  },
  "orig_nbformat": 2,
  "kernelspec": {
   "name": "python3",
   "display_name": "Python 3",
   "language": "python"
  }
 },
 "nbformat": 4,
 "nbformat_minor": 2,
 "cells": [
  {
   "cell_type": "code",
   "execution_count": 1,
   "metadata": {},
   "outputs": [],
   "source": [
    "import os\n",
    "import sys\n",
    "os.chdir('../')\n",
    "sys.path.append('../')\n",
    "\n",
    "import torch\n",
    "from utils.utils import train,prepare\n",
    "from models.Encoders import MHA_Encoder, FIM_Encoder, NPA_Encoder\n",
    "from models.SFI import SFI_gating"
   ]
  },
  {
   "cell_type": "code",
   "execution_count": 2,
   "metadata": {},
   "outputs": [],
   "source": [
    "hparams = {\n",
    "    'scale':'demo',\n",
    "    'name':'sfi',\n",
    "    'mode':'train',\n",
    "    'batch_size':10,\n",
    "    'title_size':20,\n",
    "    'his_size':50,\n",
    "    'npratio':4,\n",
    "    'dropout_p':0.2,\n",
    "    'embedding_dim':300,\n",
    "    'value_dim':16,\n",
    "    'query_dim':200,\n",
    "    'head_num':16,\n",
    "    'filter_num':150,\n",
    "    'level':1,\n",
    "    'epochs':1,\n",
    "    'metrics':'auc,mean_mrr,ndcg@5,ndcg@10',\n",
    "    'device':'cuda:1',\n",
    "    'attrs': ['title'],\n",
    "    'k':10,\n",
    "    'save_step':[0],\n",
    "    'save_each_epoch':False,\n",
    "    'train_embedding':True,\n",
    "    'news_id':False,\n",
    "    'validate':False\n",
    "}\n",
    "torch.cuda.set_device(1)"
   ]
  },
  {
   "cell_type": "code",
   "execution_count": 3,
   "metadata": {},
   "outputs": [
    {
     "output_type": "stream",
     "name": "stderr",
     "text": [
      "[2021-03-14 14:02:20,334] INFO (root) Hyper Parameters are\n",
      "{'scale': 'demo', 'name': 'sfi', 'mode': 'train', 'batch_size': 10, 'title_size': 20, 'his_size': 50, 'npratio': 4, 'dropout_p': 0.2, 'embedding_dim': 300, 'value_dim': 16, 'query_dim': 200, 'head_num': 16, 'filter_num': 150, 'level': 1, 'epochs': 1, 'metrics': 'auc,mean_mrr,ndcg@5,ndcg@10', 'device': 'cuda:1', 'attrs': ['title'], 'k': 10, 'save_step': [0], 'save_each_epoch': False, 'train_embedding': True, 'news_id': False, 'validate': False}\n",
      "[2021-03-14 14:02:20,336] INFO (root) preparing dataset...\n",
      "[2021-03-14 14:02:22,330] INFO (torchtext.vocab) Loading vectors from .vector_cache/glove.840B.300d.txt.pt\n"
     ]
    }
   ],
   "source": [
    "vocab, loaders = prepare(hparams)"
   ]
  },
  {
   "cell_type": "code",
   "execution_count": 4,
   "metadata": {},
   "outputs": [],
   "source": [
    "hparams['select'] = 'gating'\n",
    "mha_encoder = MHA_Encoder(hparams, vocab)\n",
    "sfi = SFI_gating(hparams, mha_encoder).to(hparams['device'])"
   ]
  },
  {
   "cell_type": "code",
   "execution_count": 5,
   "metadata": {},
   "outputs": [
    {
     "output_type": "stream",
     "name": "stderr",
     "text": [
      "[2021-03-14 14:00:48,374] INFO (root) training...\n",
      "epoch 1 , step 290 , loss: 1.5757: : 299it [00:16, 18.21it/s]\n",
      "[2021-03-14 14:01:05,502] INFO (root) saved model of epoch 1\n",
      "[2021-03-14 14:01:05,638] INFO (root) evaluating...\n",
      "1099it [00:23, 46.44it/s]\n",
      "[2021-03-14 14:01:30,049] INFO (root) evaluation results:{'auc': 0.5625, 'mean_mrr': 0.2528, 'ndcg@5': 0.2632, 'ndcg@10': 0.336, 'step': 0}\n"
     ]
    },
    {
     "output_type": "execute_result",
     "data": {
      "text/plain": [
       "SFI_gating(\n",
       "  (encoder): MultiHead_Encoder(\n",
       "    (embedding): Embedding(54076, 300)\n",
       "    (softmax): Softmax(dim=-1)\n",
       "    (DropOut): Dropout(p=0.2, inplace=False)\n",
       "    (queryProjects): ModuleList(\n",
       "      (0): Linear(in_features=300, out_features=300, bias=True)\n",
       "      (1): Linear(in_features=300, out_features=300, bias=True)\n",
       "      (2): Linear(in_features=300, out_features=300, bias=True)\n",
       "      (3): Linear(in_features=300, out_features=300, bias=True)\n",
       "      (4): Linear(in_features=300, out_features=300, bias=True)\n",
       "      (5): Linear(in_features=300, out_features=300, bias=True)\n",
       "      (6): Linear(in_features=300, out_features=300, bias=True)\n",
       "      (7): Linear(in_features=300, out_features=300, bias=True)\n",
       "      (8): Linear(in_features=300, out_features=300, bias=True)\n",
       "      (9): Linear(in_features=300, out_features=300, bias=True)\n",
       "      (10): Linear(in_features=300, out_features=300, bias=True)\n",
       "      (11): Linear(in_features=300, out_features=300, bias=True)\n",
       "      (12): Linear(in_features=300, out_features=300, bias=True)\n",
       "      (13): Linear(in_features=300, out_features=300, bias=True)\n",
       "      (14): Linear(in_features=300, out_features=300, bias=True)\n",
       "      (15): Linear(in_features=300, out_features=300, bias=True)\n",
       "    )\n",
       "    (valueProjects): ModuleList(\n",
       "      (0): Linear(in_features=300, out_features=16, bias=True)\n",
       "      (1): Linear(in_features=300, out_features=16, bias=True)\n",
       "      (2): Linear(in_features=300, out_features=16, bias=True)\n",
       "      (3): Linear(in_features=300, out_features=16, bias=True)\n",
       "      (4): Linear(in_features=300, out_features=16, bias=True)\n",
       "      (5): Linear(in_features=300, out_features=16, bias=True)\n",
       "      (6): Linear(in_features=300, out_features=16, bias=True)\n",
       "      (7): Linear(in_features=300, out_features=16, bias=True)\n",
       "      (8): Linear(in_features=300, out_features=16, bias=True)\n",
       "      (9): Linear(in_features=300, out_features=16, bias=True)\n",
       "      (10): Linear(in_features=300, out_features=16, bias=True)\n",
       "      (11): Linear(in_features=300, out_features=16, bias=True)\n",
       "      (12): Linear(in_features=300, out_features=16, bias=True)\n",
       "      (13): Linear(in_features=300, out_features=16, bias=True)\n",
       "      (14): Linear(in_features=300, out_features=16, bias=True)\n",
       "      (15): Linear(in_features=300, out_features=16, bias=True)\n",
       "    )\n",
       "    (keyProject): Linear(in_features=256, out_features=200, bias=True)\n",
       "    (valueProject): Linear(in_features=256, out_features=256, bias=True)\n",
       "  )\n",
       "  (softmax): Softmax(dim=-1)\n",
       "  (SeqCNN3D): Sequential(\n",
       "    (0): Conv3d(1, 32, kernel_size=[3, 3, 3], stride=(1, 1, 1), padding=(1, 1, 1))\n",
       "    (1): ReLU()\n",
       "    (2): MaxPool3d(kernel_size=[3, 3, 3], stride=[3, 3, 3], padding=0, dilation=1, ceil_mode=False)\n",
       "    (3): Conv3d(32, 16, kernel_size=[3, 3, 3], stride=(1, 1, 1), padding=(1, 1, 1))\n",
       "    (4): ReLU()\n",
       "    (5): MaxPool3d(kernel_size=[3, 3, 3], stride=[3, 3, 3], padding=0, dilation=1, ceil_mode=False)\n",
       "  )\n",
       "  (learningToRank): Linear(in_features=64, out_features=1, bias=True)\n",
       ")"
      ]
     },
     "metadata": {},
     "execution_count": 5
    }
   ],
   "source": [
    "train(sfi, hparams, loaders, interval=10)"
   ]
  },
  {
   "cell_type": "code",
   "execution_count": 4,
   "metadata": {},
   "outputs": [],
   "source": [
    "hparams['select'] = 'gating'\n",
    "fim_encoder = FIM_Encoder(hparams, vocab)\n",
    "sfi = SFI_gating(hparams, fim_encoder).to(hparams['device'])"
   ]
  },
  {
   "cell_type": "code",
   "execution_count": 5,
   "metadata": {},
   "outputs": [
    {
     "output_type": "stream",
     "name": "stderr",
     "text": [
      "[2021-03-14 14:02:31,083] INFO (root) training...\n",
      "epoch 1 , step 290 , loss: 1.5645: : 299it [00:07, 41.35it/s]\n",
      "[2021-03-14 14:02:39,080] INFO (root) saved model of epoch 1\n",
      "[2021-03-14 14:02:39,113] INFO (root) evaluating...\n",
      "1099it [00:08, 127.76it/s]\n",
      "[2021-03-14 14:02:48,522] INFO (root) evaluation results:{'auc': 0.571, 'mean_mrr': 0.2568, 'ndcg@5': 0.2629, 'ndcg@10': 0.3317, 'step': 0}\n"
     ]
    },
    {
     "output_type": "execute_result",
     "data": {
      "text/plain": [
       "SFI_gating(\n",
       "  (encoder): FIM_Encoder(\n",
       "    (embedding): Embedding(54076, 300)\n",
       "    (softmax): Softmax(dim=-1)\n",
       "    (ReLU): ReLU()\n",
       "    (LayerNorm): LayerNorm((150,), eps=1e-05, elementwise_affine=True)\n",
       "    (DropOut): Dropout(p=0.2, inplace=False)\n",
       "    (CNN_d1): Conv1d(300, 150, kernel_size=(3,), stride=(1,), padding=(1,))\n",
       "    (CNN_d2): Conv1d(150, 150, kernel_size=(3,), stride=(1,), padding=(2,), dilation=(2,))\n",
       "    (CNN_d3): Conv1d(150, 150, kernel_size=(3,), stride=(1,), padding=(3,), dilation=(3,))\n",
       "    (SeqCNN3D): Sequential(\n",
       "      (0): Conv3d(3, 32, kernel_size=[3, 3, 3], stride=(1, 1, 1), padding=(1, 1, 1))\n",
       "      (1): ReLU()\n",
       "      (2): MaxPool3d(kernel_size=[3, 3, 3], stride=[3, 3, 3], padding=0, dilation=1, ceil_mode=False)\n",
       "      (3): Conv3d(32, 16, kernel_size=[3, 3, 3], stride=(1, 1, 1), padding=(1, 1, 1))\n",
       "      (4): ReLU()\n",
       "      (5): MaxPool3d(kernel_size=[3, 3, 3], stride=[3, 3, 3], padding=0, dilation=1, ceil_mode=False)\n",
       "    )\n",
       "  )\n",
       "  (softmax): Softmax(dim=-1)\n",
       "  (SeqCNN3D): Sequential(\n",
       "    (0): Conv3d(3, 32, kernel_size=[3, 3, 3], stride=(1, 1, 1), padding=(1, 1, 1))\n",
       "    (1): ReLU()\n",
       "    (2): MaxPool3d(kernel_size=[3, 3, 3], stride=[3, 3, 3], padding=0, dilation=1, ceil_mode=False)\n",
       "    (3): Conv3d(32, 16, kernel_size=[3, 3, 3], stride=(1, 1, 1), padding=(1, 1, 1))\n",
       "    (4): ReLU()\n",
       "    (5): MaxPool3d(kernel_size=[3, 3, 3], stride=[3, 3, 3], padding=0, dilation=1, ceil_mode=False)\n",
       "  )\n",
       "  (learningToRank): Linear(in_features=64, out_features=1, bias=True)\n",
       ")"
      ]
     },
     "metadata": {},
     "execution_count": 5
    }
   ],
   "source": [
    "train(sfi, hparams, loaders, interval=10)"
   ]
  },
  {
   "cell_type": "code",
   "execution_count": 6,
   "metadata": {},
   "outputs": [],
   "source": [
    "hparams['select'] = 'gating'\n",
    "hparams['user_dim'] = 200\n",
    "hparams['query_dim'] = 200\n",
    "hparams['filter_num'] = 400\n",
    "\n",
    "npa_encoder = NPA_Encoder(hparams, vocab, len(loaders[0].dataset.uid2index))\n",
    "sfi = SFI_gating(hparams, npa_encoder).to(hparams['device'])"
   ]
  },
  {
   "cell_type": "code",
   "execution_count": 7,
   "metadata": {},
   "outputs": [
    {
     "output_type": "stream",
     "name": "stderr",
     "text": [
      "[2021-03-14 14:03:30,905] INFO (root) training...\n",
      "epoch 1 , step 290 , loss: 1.5578: : 299it [00:04, 63.94it/s]\n",
      "[2021-03-14 14:03:36,394] INFO (root) saved model of epoch 1\n",
      "[2021-03-14 14:03:36,409] INFO (root) evaluating...\n",
      "1099it [00:07, 142.10it/s]\n",
      "[2021-03-14 14:03:44,950] INFO (root) evaluation results:{'auc': 0.5409, 'mean_mrr': 0.2655, 'ndcg@5': 0.2876, 'ndcg@10': 0.342, 'step': 0}\n"
     ]
    },
    {
     "output_type": "execute_result",
     "data": {
      "text/plain": [
       "SFI_gating(\n",
       "  (encoder): NPA_Encoder(\n",
       "    (embedding): Embedding(54076, 300)\n",
       "    (softmax): Softmax(dim=-1)\n",
       "    (user_embedding): Embedding(2426, 200)\n",
       "    (wordQueryProject): Linear(in_features=200, out_features=200, bias=True)\n",
       "    (wordPrefProject): Linear(in_features=200, out_features=400, bias=True)\n",
       "    (CNN): Conv1d(300, 400, kernel_size=(3,), stride=(1,), padding=(1,))\n",
       "    (RELU): ReLU()\n",
       "    (Tanh): Tanh()\n",
       "    (DropOut): Dropout(p=0.2, inplace=False)\n",
       "  )\n",
       "  (softmax): Softmax(dim=-1)\n",
       "  (SeqCNN3D): Sequential(\n",
       "    (0): Conv3d(1, 32, kernel_size=[3, 3, 3], stride=(1, 1, 1), padding=(1, 1, 1))\n",
       "    (1): ReLU()\n",
       "    (2): MaxPool3d(kernel_size=[3, 3, 3], stride=[3, 3, 3], padding=0, dilation=1, ceil_mode=False)\n",
       "    (3): Conv3d(32, 16, kernel_size=[3, 3, 3], stride=(1, 1, 1), padding=(1, 1, 1))\n",
       "    (4): ReLU()\n",
       "    (5): MaxPool3d(kernel_size=[3, 3, 3], stride=[3, 3, 3], padding=0, dilation=1, ceil_mode=False)\n",
       "  )\n",
       "  (learningToRank): Linear(in_features=64, out_features=1, bias=True)\n",
       ")"
      ]
     },
     "metadata": {},
     "execution_count": 7
    }
   ],
   "source": [
    "train(sfi, hparams, loaders, interval=10)"
   ]
  }
 ]
}