{
 "metadata": {
  "language_info": {
   "codemirror_mode": {
    "name": "ipython",
    "version": 3
   },
   "file_extension": ".py",
   "mimetype": "text/x-python",
   "name": "python",
   "nbconvert_exporter": "python",
   "pygments_lexer": "ipython3",
   "version": "3.8.5-final"
  },
  "orig_nbformat": 2,
  "kernelspec": {
   "name": "python38564bitnnconda048fc75fe4ee43f1aa97608c8881ebba",
   "display_name": "Python 3.8.5 64-bit ('nn': conda)",
   "language": "python"
  }
 },
 "nbformat": 4,
 "nbformat_minor": 2,
 "cells": [
  {
   "cell_type": "code",
   "execution_count": 1,
   "metadata": {},
   "outputs": [],
   "source": [
    "import os\n",
    "import sys\n",
    "os.chdir('../')\n",
    "sys.path.append('../')\n",
    "\n",
    "import torch\n",
    "from utils.utils import evaluate,train,prepare\n",
    "from models.ITR_TFM_TFM import GCAModel"
   ]
  },
  {
   "cell_type": "code",
   "execution_count": 2,
   "metadata": {},
   "outputs": [],
   "source": [
    "hparams = {\n",
    "    'scale':'demo',\n",
    "    'epochs':10,\n",
    "    'name':'itr-tfm-tfm',\n",
    "    'batch_size':5,\n",
    "    'title_size':20,\n",
    "    'his_size':50,\n",
    "    'npratio':4,\n",
    "    'dropout_p':0.2,\n",
    "    'embedding_dim':300,\n",
    "    'value_dim':50,\n",
    "    'head_num':6,\n",
    "    'metrics':'group_auc,ndcg@5,ndcg@10,mean_mrr',\n",
    "    'device':'cuda:1',\n",
    "    'attrs': ['title'],\n",
    "    'k':None,\n",
    "    'save_each_epoch':False,\n",
    "    'save_step':None,\n",
    "    'train_embedding':False,\n",
    "}\n",
    "\n",
    "device = torch.device(hparams['device']) if torch.cuda.is_available() else torch.device(\"cpu\")"
   ]
  },
  {
   "cell_type": "code",
   "execution_count": 3,
   "metadata": {},
   "outputs": [],
   "source": [
    "vocab, loader_train, loader_test, loader_validate = prepare(hparams, validate=True)"
   ]
  },
  {
   "cell_type": "code",
   "execution_count": 4,
   "metadata": {},
   "outputs": [],
   "source": [
    "gcaModel = GCAModel(hparams, vocab=vocab).to(device)"
   ]
  },
  {
   "cell_type": "code",
   "execution_count": 5,
   "metadata": {},
   "outputs": [
    {
     "output_type": "stream",
     "name": "stdout",
     "text": [
      "training...\n",
      "epoch 0 , step 390 , loss: 1.6074: : 400it [01:01,  6.50it/s]\n",
      "epoch 1 , step 390 , loss: 1.6105: : 400it [01:00,  6.58it/s]\n",
      "epoch 2 , step 390 , loss: 1.6136: : 400it [01:00,  6.60it/s]\n",
      "epoch 3 , step 390 , loss: 1.6135: : 400it [01:00,  6.60it/s]\n",
      "epoch 4 , step 390 , loss: 1.6110: : 400it [01:00,  6.59it/s]\n",
      "epoch 5 , step 390 , loss: 1.6133: : 400it [01:00,  6.59it/s]\n",
      "epoch 6 , step 390 , loss: 1.6127: : 400it [01:00,  6.58it/s]\n",
      "epoch 7 , step 390 , loss: 1.6083: : 400it [01:00,  6.57it/s]\n",
      "epoch 8 , step 390 , loss: 1.6135: : 400it [01:00,  6.60it/s]\n",
      "epoch 9 , step 390 , loss: 1.6136: : 400it [01:00,  6.59it/s]\n",
      "0it [00:00, ?it/s]testing...\n",
      "3622it [00:42, 86.09it/s]\n",
      "0it [00:00, ?it/s]evaluation results:{'group_auc': 0.5347, 'ndcg@5': 0.2546, 'ndcg@10': 0.3236, 'mean_mrr': 0.2495}\n",
      "validating...\n",
      "15062it [02:53, 86.82it/s]\n",
      "evaluation results:{'group_auc': 0.4918, 'ndcg@5': 0.2357, 'ndcg@10': 0.29, 'mean_mrr': 0.2284}\n"
     ]
    }
   ],
   "source": [
    "train(gcaModel, hparams, loader_train, loader_test, loader_validate, save=False)"
   ]
  },
  {
   "cell_type": "code",
   "execution_count": null,
   "metadata": {},
   "outputs": [],
   "source": []
  }
 ]
}