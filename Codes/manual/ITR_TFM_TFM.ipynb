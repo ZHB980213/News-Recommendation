{
 "metadata": {
  "language_info": {
   "codemirror_mode": {
    "name": "ipython",
    "version": 3
   },
   "file_extension": ".py",
   "mimetype": "text/x-python",
   "name": "python",
   "nbconvert_exporter": "python",
   "pygments_lexer": "ipython3",
   "version": "3.8.5-final"
  },
  "orig_nbformat": 2,
  "kernelspec": {
   "name": "python38564bitnnconda048fc75fe4ee43f1aa97608c8881ebba",
   "display_name": "Python 3.8.5 64-bit ('nn': conda)",
   "language": "python"
  }
 },
 "nbformat": 4,
 "nbformat_minor": 2,
 "cells": [
  {
   "cell_type": "code",
   "execution_count": 1,
   "metadata": {},
   "outputs": [],
   "source": [
    "import os\n",
    "import sys\n",
    "os.chdir('../')\n",
    "sys.path.append('../')\n",
    "\n",
    "import torch\n",
    "from utils.utils import evaluate,train,prepare\n",
    "from models.ITR_TFM_TFM import GCAModel"
   ]
  },
  {
   "cell_type": "code",
   "execution_count": 2,
   "metadata": {},
   "outputs": [],
   "source": [
    "hparams = {\n",
    "    'scale':'demo',\n",
    "    'epochs':10,\n",
    "    'name':'itr-tfm-tfm',\n",
    "    'batch_size':5,\n",
    "    'title_size':20,\n",
    "    'his_size':50,\n",
    "    'npratio':4,\n",
    "    'dropout_p':0.2,\n",
    "    'embedding_dim':300,\n",
    "    'value_dim':50,\n",
    "    'head_num':6,\n",
    "    'metrics':'auc,group_auc,mean_mrr,ndcg@5,ndcg@10',\n",
    "    'device':'cuda:0',\n",
    "    'attrs': ['title'],\n",
    "    'k':-1,\n",
    "    'save_each_epoch':False,\n",
    "    'save_step':0,\n",
    "    'train_embedding':False,\n",
    "}\n",
    "\n",
    "device = torch.device(hparams['device']) if torch.cuda.is_available() else torch.device(\"cpu\")"
   ]
  },
  {
   "cell_type": "code",
   "execution_count": 3,
   "metadata": {},
   "outputs": [],
   "source": [
    "vocab, loaders = prepare(hparams)"
   ]
  },
  {
   "cell_type": "code",
   "execution_count": 4,
   "metadata": {},
   "outputs": [],
   "source": [
    "gcaModel = GCAModel(hparams, vocab=vocab).to(device)"
   ]
  },
  {
   "cell_type": "code",
   "execution_count": 5,
   "metadata": {},
   "outputs": [
    {
     "output_type": "stream",
     "name": "stdout",
     "text": [
      "training...\n",
      "epoch 0 , step 390 , loss: 1.6976: : 400it [00:08, 47.63it/s]\n",
      "epoch 1 , step 390 , loss: 1.5276: : 400it [00:06, 61.63it/s]\n",
      "epoch 2 , step 390 , loss: 1.4964: : 400it [00:07, 51.66it/s]\n",
      "epoch 3 , step 390 , loss: 1.4694: : 400it [00:05, 67.09it/s]\n",
      "epoch 4 , step 390 , loss: 1.4373: : 400it [00:07, 54.02it/s]\n",
      "epoch 5 , step 390 , loss: 1.4077: : 400it [00:07, 51.40it/s]\n",
      "epoch 6 , step 390 , loss: 1.3483: : 400it [00:07, 51.44it/s]\n",
      "epoch 7 , step 390 , loss: 1.2828: : 400it [00:08, 44.72it/s]\n",
      "epoch 8 , step 390 , loss: 1.2287: : 400it [00:08, 45.66it/s]\n",
      "epoch 9 , step 390 , loss: 1.1532: : 400it [00:07, 51.65it/s]\n",
      "0it [00:00, ?it/s]testing...\n",
      "3622it [00:24, 150.70it/s]\n",
      "0it [00:00, ?it/s]evaluation results:{'group_auc': 0.4989, 'ndcg@5': 0.2172, 'ndcg@10': 0.2881, 'mean_mrr': 0.21}\n",
      "validating...\n",
      "15062it [01:38, 153.23it/s]\n",
      "evaluation results:{'group_auc': 0.5003, 'ndcg@5': 0.229, 'ndcg@10': 0.2861, 'mean_mrr': 0.2218}\n"
     ]
    }
   ],
   "source": [
    "train(gcaModel, hparams, loaders[0], loaders[1], loaders[2])"
   ]
  },
  {
   "cell_type": "code",
   "execution_count": null,
   "metadata": {},
   "outputs": [],
   "source": []
  }
 ]
}