{
 "metadata": {
  "language_info": {
   "codemirror_mode": {
    "name": "ipython",
    "version": 3
   },
   "file_extension": ".py",
   "mimetype": "text/x-python",
   "name": "python",
   "nbconvert_exporter": "python",
   "pygments_lexer": "ipython3",
   "version": "3.7.9-final"
  },
  "orig_nbformat": 2,
  "kernelspec": {
   "name": "python37964bit4c03300bedca44f8b0013abe02048abc",
   "display_name": "Python 3.7.9 64-bit",
   "language": "python"
  }
 },
 "nbformat": 4,
 "nbformat_minor": 2,
 "cells": [
  {
   "cell_type": "code",
   "execution_count": null,
   "metadata": {},
   "outputs": [],
   "source": [
    "import os\n",
    "import sys\n",
    "os.chdir('../')\n",
    "sys.path.append('../')"
   ]
  },
  {
   "cell_type": "code",
   "execution_count": 12,
   "metadata": {},
   "outputs": [
    {
     "output_type": "execute_result",
     "data": {
      "text/plain": [
       "torch.Size([6, 1])"
      ]
     },
     "metadata": {},
     "execution_count": 12
    }
   ],
   "source": [
    "import torch\n",
    "\n",
    "a = torch.rand((2,2,3))\n",
    "b = torch.rand((6))\n",
    "\n",
    "b.shape+(1,) #concat(torch.tnesor(([2])))"
   ]
  },
  {
   "cell_type": "code",
   "execution_count": 9,
   "metadata": {},
   "outputs": [
    {
     "output_type": "execute_result",
     "data": {
      "text/plain": [
       "(tensor([[[[[0.2930, 0.2536, 0.8373],\n",
       "            [0.2090, 0.0838, 0.3000]],\n",
       " \n",
       "           [[0.0630, 0.4348, 0.0460],\n",
       "            [0.8475, 0.5611, 0.3318]]]]]),\n",
       " tensor([[[[[1.],\n",
       "            [1.],\n",
       "            [1.]]],\n",
       " \n",
       " \n",
       "          [[[2.],\n",
       "            [2.],\n",
       "            [2.]]]]]),\n",
       " tensor([[[[[1.3840],\n",
       "            [0.5929]],\n",
       " \n",
       "           [[0.5438],\n",
       "            [1.7405]]],\n",
       " \n",
       " \n",
       "          [[[2.7680],\n",
       "            [1.1858]],\n",
       " \n",
       "           [[1.0875],\n",
       "            [3.4810]]]]]),\n",
       " torch.Size([1, 2, 2, 2, 1]))"
      ]
     },
     "metadata": {},
     "execution_count": 9
    }
   ],
   "source": [
    "import torch\n",
    "import torch.nn.functional as F\n",
    "a = torch.rand((1,1,2,2,3))\n",
    "b = torch.tensor([[1,1,1],[2,2,2]]).float().view(1,2,1,3,1)\n",
    "c = torch.matmul(a,b)\n",
    "a,b,c,c.shape"
   ]
  },
  {
   "cell_type": "code",
   "execution_count": 2,
   "metadata": {},
   "outputs": [
    {
     "output_type": "execute_result",
     "data": {
      "text/plain": [
       "(tensor([[[[0.2399, 0.5392, 0.4271, 0.9112, 0.7183],\n",
       "           [0.3900, 0.7354, 0.5409, 0.6545, 0.7653],\n",
       "           [0.5342, 0.4016, 0.7155, 0.0555, 0.4240],\n",
       "           [0.5617, 0.5221, 0.3007, 0.2620, 0.9398],\n",
       "           [0.5106, 0.2386, 0.6631, 0.9306, 0.5173]]],\n",
       " \n",
       " \n",
       "         [[[0.0166, 0.6163, 0.3757, 0.2405, 0.7030],\n",
       "           [0.8404, 0.9824, 0.9697, 0.5186, 0.7443],\n",
       "           [0.8495, 0.6359, 0.6595, 0.3478, 0.9964],\n",
       "           [0.8697, 0.7699, 0.1160, 0.6130, 0.3718],\n",
       "           [0.1238, 0.3422, 0.3206, 0.9934, 0.3864]]]]),\n",
       " tensor([[[[0.2399, 0.5392, 0.4271, 0.9112, 0.7183],\n",
       "           [0.3900, 0.7354, 0.5409, 0.6545, 0.7653],\n",
       "           [0.5342, 0.4016, 0.7155, 0.0555, 0.4240],\n",
       "           [0.5617, 0.5221, 0.3007, 0.2620, 0.9398],\n",
       "           [0.5106, 0.2386, 0.6631, 0.9306, 0.5173]],\n",
       " \n",
       "          [[0.2399, 0.5392, 0.4271, 0.9112, 0.7183],\n",
       "           [0.3900, 0.7354, 0.5409, 0.6545, 0.7653],\n",
       "           [0.5342, 0.4016, 0.7155, 0.0555, 0.4240],\n",
       "           [0.5617, 0.5221, 0.3007, 0.2620, 0.9398],\n",
       "           [0.5106, 0.2386, 0.6631, 0.9306, 0.5173]],\n",
       " \n",
       "          [[0.2399, 0.5392, 0.4271, 0.9112, 0.7183],\n",
       "           [0.3900, 0.7354, 0.5409, 0.6545, 0.7653],\n",
       "           [0.5342, 0.4016, 0.7155, 0.0555, 0.4240],\n",
       "           [0.5617, 0.5221, 0.3007, 0.2620, 0.9398],\n",
       "           [0.5106, 0.2386, 0.6631, 0.9306, 0.5173]]],\n",
       " \n",
       " \n",
       "         [[[0.0166, 0.6163, 0.3757, 0.2405, 0.7030],\n",
       "           [0.8404, 0.9824, 0.9697, 0.5186, 0.7443],\n",
       "           [0.8495, 0.6359, 0.6595, 0.3478, 0.9964],\n",
       "           [0.8697, 0.7699, 0.1160, 0.6130, 0.3718],\n",
       "           [0.1238, 0.3422, 0.3206, 0.9934, 0.3864]],\n",
       " \n",
       "          [[0.0166, 0.6163, 0.3757, 0.2405, 0.7030],\n",
       "           [0.8404, 0.9824, 0.9697, 0.5186, 0.7443],\n",
       "           [0.8495, 0.6359, 0.6595, 0.3478, 0.9964],\n",
       "           [0.8697, 0.7699, 0.1160, 0.6130, 0.3718],\n",
       "           [0.1238, 0.3422, 0.3206, 0.9934, 0.3864]],\n",
       " \n",
       "          [[0.0166, 0.6163, 0.3757, 0.2405, 0.7030],\n",
       "           [0.8404, 0.9824, 0.9697, 0.5186, 0.7443],\n",
       "           [0.8495, 0.6359, 0.6595, 0.3478, 0.9964],\n",
       "           [0.8697, 0.7699, 0.1160, 0.6130, 0.3718],\n",
       "           [0.1238, 0.3422, 0.3206, 0.9934, 0.3864]]]]))"
      ]
     },
     "metadata": {},
     "execution_count": 2
    }
   ],
   "source": [
    "import torch\n",
    "a = torch.rand((2,1,5,5))\n",
    "b = torch.zeros((2,3,5,5))\n",
    "b[:,:,:,:] = a\n",
    "a, b"
   ]
  },
  {
   "cell_type": "code",
   "execution_count": null,
   "metadata": {},
   "outputs": [],
   "source": [
    "b, torch.sum(torch.log(b),dim=1)\n"
   ]
  },
  {
   "cell_type": "code",
   "execution_count": null,
   "metadata": {},
   "outputs": [],
   "source": [
    "from torch.utils.tensorboard import SummaryWriter\n",
    "writer = SummaryWriter('data/test')"
   ]
  },
  {
   "cell_type": "code",
   "execution_count": null,
   "metadata": {},
   "outputs": [],
   "source": [
    "import torch\n",
    "writer.add_embedding(torch.rand((5,5)),meta)"
   ]
  },
  {
   "cell_type": "code",
   "execution_count": 15,
   "metadata": {},
   "outputs": [
    {
     "output_type": "execute_result",
     "data": {
      "text/plain": [
       "tensor([[[[0, 0, 3, 1],\n",
       "          [0, 0, 3, 1],\n",
       "          [0, 0, 3, 1]],\n",
       "\n",
       "         [[0, 0, 3, 1],\n",
       "          [0, 0, 3, 1],\n",
       "          [0, 0, 3, 1]]],\n",
       "\n",
       "\n",
       "        [[[0, 0, 3, 1],\n",
       "          [0, 0, 3, 1],\n",
       "          [0, 0, 3, 1]],\n",
       "\n",
       "         [[0, 0, 3, 1],\n",
       "          [0, 0, 3, 1],\n",
       "          [0, 0, 3, 1]]]])"
      ]
     },
     "metadata": {},
     "execution_count": 15
    }
   ],
   "source": [
    "import torch\n",
    "r = torch.zeros((2,2,3,4)).long()\n",
    "a = torch.rand((2,2,3))\n",
    "b = torch.ones((2,3,1))\n",
    "r[:,:,:,:3] = a.unsqueeze(dim=2)\n",
    "r[:,:,:,3:] = b.unsqueeze(dim=1)\n",
    "r[:,:,:,2] = 3\n",
    "r"
   ]
  },
  {
   "cell_type": "code",
   "execution_count": 16,
   "metadata": {},
   "outputs": [
    {
     "output_type": "execute_result",
     "data": {
      "text/plain": [
       "tensor([[[0.3344, 0.4434, 0.3447]],\n",
       "\n",
       "        [[0.3344, 0.4434, 0.3447]],\n",
       "\n",
       "        [[0.3344, 0.4434, 0.3447]]])"
      ]
     },
     "metadata": {},
     "execution_count": 16
    }
   ],
   "source": [
    "a = torch.rand((1,3))\n",
    "a.expand((3,1,3))"
   ]
  },
  {
   "cell_type": "code",
   "execution_count": 5,
   "metadata": {},
   "outputs": [
    {
     "output_type": "execute_result",
     "data": {
      "text/plain": [
       "(tensor([[[0.0520, 0.4161, 0.6037],\n",
       "          [0.6303, 0.0058, 0.9706],\n",
       "          [0.2057, 0.5522, 0.3991]],\n",
       " \n",
       "         [[0.5173, 0.8608, 0.9261],\n",
       "          [0.8407, 0.3149, 0.9166],\n",
       "          [0.6776, 0.5006, 0.2419]]]),\n",
       " tensor([[0.5693, 1.2770, 1.5298],\n",
       "         [1.4711, 0.3207, 1.8872],\n",
       "         [0.8833, 1.0528, 0.6410]]),\n",
       " tensor([[0.5693, 1.2770, 1.5298],\n",
       "         [1.4711, 0.3207, 1.8872],\n",
       "         [0.8833, 1.0528, 0.6410]]),\n",
       " tensor([[[0.0520, 0.4161, 0.6037],\n",
       "          [0.5173, 0.8608, 0.9261]],\n",
       " \n",
       "         [[0.6303, 0.0058, 0.9706],\n",
       "          [0.8407, 0.3149, 0.9166]],\n",
       " \n",
       "         [[0.2057, 0.5522, 0.3991],\n",
       "          [0.6776, 0.5006, 0.2419]]]))"
      ]
     },
     "metadata": {},
     "execution_count": 5
    }
   ],
   "source": [
    "import torch\n",
    "a = torch.rand((2,3,3))\n",
    "b = torch.sum(a,dim=0)\n",
    "c = torch.sum(a.transpose(1,0), dim=1)\n",
    "a,b,c,a.transpose(1,0)"
   ]
  },
  {
   "cell_type": "code",
   "execution_count": null,
   "metadata": {},
   "outputs": [],
   "source": []
  }
 ]
}