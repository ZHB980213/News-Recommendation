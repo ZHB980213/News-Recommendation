{
 "metadata": {
  "language_info": {
   "codemirror_mode": {
    "name": "ipython",
    "version": 3
   },
   "file_extension": ".py",
   "mimetype": "text/x-python",
   "name": "python",
   "nbconvert_exporter": "python",
   "pygments_lexer": "ipython3",
   "version": "3.8.5-final"
  },
  "orig_nbformat": 2,
  "kernelspec": {
   "name": "python38564bitnncondad67fb259925d4833a703b0467175fd55",
   "display_name": "Python 3.8.5 64-bit ('nn': conda)",
   "language": "python"
  }
 },
 "nbformat": 4,
 "nbformat_minor": 2,
 "cells": [
  {
   "cell_type": "code",
   "execution_count": 1,
   "metadata": {},
   "outputs": [
    {
     "output_type": "error",
     "ename": "ModuleNotFoundError",
     "evalue": "No module named 'models.baseline_MHA_FIM'",
     "traceback": [
      "\u001b[0;31m---------------------------------------------------------------------------\u001b[0m",
      "\u001b[0;31mModuleNotFoundError\u001b[0m                       Traceback (most recent call last)",
      "\u001b[0;32m<ipython-input-1-10c5fa00d056>\u001b[0m in \u001b[0;36m<module>\u001b[0;34m\u001b[0m\n\u001b[1;32m      6\u001b[0m \u001b[0;32mimport\u001b[0m \u001b[0mtorch\u001b[0m\u001b[0;34m\u001b[0m\u001b[0;34m\u001b[0m\u001b[0m\n\u001b[1;32m      7\u001b[0m \u001b[0;32mfrom\u001b[0m \u001b[0mutils\u001b[0m\u001b[0;34m.\u001b[0m\u001b[0mutils\u001b[0m \u001b[0;32mimport\u001b[0m \u001b[0mevaluate\u001b[0m\u001b[0;34m,\u001b[0m\u001b[0mtrain\u001b[0m\u001b[0;34m,\u001b[0m\u001b[0mprepare\u001b[0m\u001b[0;34m\u001b[0m\u001b[0;34m\u001b[0m\u001b[0m\n\u001b[0;32m----> 8\u001b[0;31m \u001b[0;32mfrom\u001b[0m \u001b[0mmodels\u001b[0m\u001b[0;34m.\u001b[0m\u001b[0mbaseline_MHA_FIM\u001b[0m \u001b[0;32mimport\u001b[0m \u001b[0mSFIModel_gating\u001b[0m\u001b[0;34m\u001b[0m\u001b[0;34m\u001b[0m\u001b[0m\n\u001b[0m",
      "\u001b[0;31mModuleNotFoundError\u001b[0m: No module named 'models.baseline_MHA_FIM'"
     ]
    }
   ],
   "source": [
    "import os\n",
    "import sys\n",
    "os.chdir('../')\n",
    "sys.path.append('../')\n",
    "\n",
    "import torch\n",
    "from utils.utils import evaluate,train,prepare\n",
    "from models.baseline_MHA_FIM import SFIModel_gating"
   ]
  },
  {
   "cell_type": "code",
   "execution_count": 2,
   "metadata": {},
   "outputs": [],
   "source": [
    "hparams = {\n",
    "    'scale':'demo',\n",
    "    'name':'baseline-mha-fim',\n",
    "    'batch_size':10,\n",
    "    'title_size':20,\n",
    "    'his_size':50,\n",
    "    'npratio':4,\n",
    "    'dropout_p':0.2,\n",
    "    'embedding_dim':300,\n",
    "    'value_dim':64,\n",
    "    'query_dim':200,\n",
    "    'head_num':8,\n",
    "    'epochs':10,\n",
    "    'metrics':'auc,mean_mrr,ndcg@5,ndcg@10',\n",
    "    'device':'cuda:1',\n",
    "    'attrs': ['title'],\n",
    "    'k':10,\n",
    "    'save_step':[0],\n",
    "    'save_each_epoch':False,\n",
    "    'train_embedding':False\n",
    "}\n",
    "\n",
    ""
   ]
  },
  {
   "cell_type": "code",
   "execution_count": 3,
   "metadata": {},
   "outputs": [],
   "source": [
    "vocab, loaders = prepare(hparams)"
   ]
  },
  {
   "cell_type": "code",
   "execution_count": 4,
   "metadata": {},
   "outputs": [],
   "source": [
    "sfiModel_gatingSFIModel_gating(hparams, vocab=vocab).to(hparams['device'])"
   ]
  },
  {
   "cell_type": "code",
   "execution_count": 5,
   "metadata": {},
   "outputs": [
    {
     "output_type": "stream",
     "name": "stdout",
     "text": [
      "training...\n",
      "epoch 1 , step 190 , loss: 1.5498: : 200it [00:08, 24.99it/s]\n",
      "epoch 2 , step 190 , loss: 1.4735: : 200it [00:07, 27.89it/s]\n",
      "epoch 3 , step 190 , loss: 1.4110: : 200it [00:07, 27.80it/s]\n",
      "epoch 4 , step 190 , loss: 1.3396: : 200it [00:07, 28.11it/s]\n",
      "epoch 5 , step 190 , loss: 1.2480: : 200it [00:07, 26.37it/s]\n",
      "epoch 6 , step 190 , loss: 1.1706: : 200it [00:07, 25.90it/s]\n",
      "epoch 7 , step 190 , loss: 1.0997: : 200it [00:07, 27.02it/s]\n",
      "epoch 8 , step 190 , loss: 1.0064: : 200it [00:06, 30.91it/s]\n",
      "epoch 9 , step 190 , loss: 0.9454: : 200it [00:06, 32.70it/s]\n",
      "epoch 10 , step 190 , loss: 0.8723: : 200it [00:06, 30.16it/s]\n",
      "0it [00:00, ?it/s]testing...\n",
      "1811it [00:25, 71.00it/s]\n",
      "0it [00:00, ?it/s]evaluation results:{'group_auc': 0.5774, 'ndcg@5': 0.2822, 'ndcg@10': 0.3438, 'mean_mrr': 0.2707}\n",
      "validating...\n",
      "7531it [01:43, 72.62it/s]\n",
      "evaluation results:{'group_auc': 0.867, 'ndcg@5': 0.6051, 'ndcg@10': 0.6455, 'mean_mrr': 0.5515}\n"
     ]
    }
   ],
   "source": [
    "train(sfiModel_gating, hparams, loaders, interval=10)"
   ]
  },
  {
   "cell_type": "code",
   "execution_count": null,
   "metadata": {},
   "outputs": [],
   "source": []
  }
 ]
}