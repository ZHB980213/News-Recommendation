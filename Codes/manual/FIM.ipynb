{
 "metadata": {
  "language_info": {
   "codemirror_mode": {
    "name": "ipython",
    "version": 3
   },
   "file_extension": ".py",
   "mimetype": "text/x-python",
   "name": "python",
   "nbconvert_exporter": "python",
   "pygments_lexer": "ipython3",
   "version": "3.8.5-final"
  },
  "orig_nbformat": 2,
  "kernelspec": {
   "name": "python38564bitnnconda048fc75fe4ee43f1aa97608c8881ebba",
   "display_name": "Python 3.8.5 64-bit ('nn': conda)",
   "language": "python"
  }
 },
 "nbformat": 4,
 "nbformat_minor": 2,
 "cells": [
  {
   "cell_type": "code",
   "execution_count": 1,
   "metadata": {},
   "outputs": [],
   "source": [
    "import os\n",
    "import sys\n",
    "os.chdir('../')\n",
    "sys.path.append('../')\n",
    "\n",
    "import torch\n",
    "from utils.utils import evaluate,train,prepare\n",
    "from models.FIM import FIMModel"
   ]
  },
  {
   "cell_type": "code",
   "execution_count": 9,
   "metadata": {},
   "outputs": [],
   "source": [
    "hparams = {\n",
    "    'scale':'demo',\n",
    "    'name':'fim',\n",
    "    'batch_size':5,\n",
    "    'title_size':20,\n",
    "    'his_size':50,\n",
    "    'npratio':4,\n",
    "    'dropout_p':0.2,\n",
    "    'filter_num':150,\n",
    "    'embedding_dim':300,\n",
    "    'metrics':'auc,group_auc,mean_mrr,ndcg@5,ndcg@10',\n",
    "    'device':'cuda:0',\n",
    "    'attrs': ['title'],\n",
    "    'epochs':10,\n",
    "    'k':-1,\n",
    "    'select':None,\n",
    "    'save_step':0,\n",
    "    'save_each_epoch':True,\n",
    "    'train_embedding':False,\n",
    "}\n",
    "device = torch.device(hparams['device'])"
   ]
  },
  {
   "cell_type": "code",
   "execution_count": 3,
   "metadata": {},
   "outputs": [],
   "source": [
    "vocab, loaders = prepare(hparams)"
   ]
  },
  {
   "cell_type": "code",
   "execution_count": 10,
   "metadata": {},
   "outputs": [],
   "source": [
    "fimModel = FIMModel(vocab=vocab,hparams=hparams).to(device)"
   ]
  },
  {
   "cell_type": "code",
   "execution_count": 11,
   "metadata": {},
   "outputs": [
    {
     "output_type": "stream",
     "name": "stdout",
     "text": [
      "training...\n",
      "epoch 1 , step 300 , loss: 1.5540: : 400it [00:10, 39.13it/s]\n",
      "0it [00:00, ?it/s]saved model of epoch 1\n",
      "testing...\n",
      "3622it [00:16, 221.01it/s]\n",
      "0it [00:00, ?it/s]evaluation results:{'group_auc': 0.5225, 'mean_mrr': 0.2243, 'ndcg@5': 0.2394, 'ndcg@10': 0.3034}\n",
      "validating...\n",
      "15062it [01:04, 232.18it/s]\n",
      "evaluation results:{'group_auc': 0.6463, 'mean_mrr': 0.3222, 'ndcg@5': 0.3444, 'ndcg@10': 0.4021}\n"
     ]
    }
   ],
   "source": [
    "train(fimModel, hparams, loaders[0], loaders[1], loaders[2])"
   ]
  },
  {
   "cell_type": "code",
   "execution_count": null,
   "metadata": {},
   "outputs": [],
   "source": []
  }
 ]
}