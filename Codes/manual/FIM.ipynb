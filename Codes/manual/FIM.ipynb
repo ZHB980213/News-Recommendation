{
 "metadata": {
  "language_info": {
   "codemirror_mode": {
    "name": "ipython",
    "version": 3
   },
   "file_extension": ".py",
   "mimetype": "text/x-python",
   "name": "python",
   "nbconvert_exporter": "python",
   "pygments_lexer": "ipython3",
   "version": "3.8.5-final"
  },
  "orig_nbformat": 2,
  "kernelspec": {
   "name": "python38564bitnnconda048fc75fe4ee43f1aa97608c8881ebba",
   "display_name": "Python 3.8.5 64-bit ('nn': conda)",
   "language": "python"
  }
 },
 "nbformat": 4,
 "nbformat_minor": 2,
 "cells": [
  {
   "cell_type": "code",
   "execution_count": 3,
   "metadata": {},
   "outputs": [
    {
     "output_type": "error",
     "ename": "ModuleNotFoundError",
     "evalue": "No module named 'torch'",
     "traceback": [
      "\u001b[0;31m---------------------------------------------------------------------------\u001b[0m",
      "\u001b[0;31mModuleNotFoundError\u001b[0m                       Traceback (most recent call last)",
      "\u001b[0;32m<ipython-input-3-2531bd2fedb0>\u001b[0m in \u001b[0;36m<module>\u001b[0;34m\u001b[0m\n\u001b[1;32m      4\u001b[0m \u001b[0msys\u001b[0m\u001b[0;34m.\u001b[0m\u001b[0mpath\u001b[0m\u001b[0;34m.\u001b[0m\u001b[0mappend\u001b[0m\u001b[0;34m(\u001b[0m\u001b[0;34m'../'\u001b[0m\u001b[0;34m)\u001b[0m\u001b[0;34m\u001b[0m\u001b[0;34m\u001b[0m\u001b[0m\n\u001b[1;32m      5\u001b[0m \u001b[0;34m\u001b[0m\u001b[0m\n\u001b[0;32m----> 6\u001b[0;31m \u001b[0;32mimport\u001b[0m \u001b[0mtorch\u001b[0m\u001b[0;34m\u001b[0m\u001b[0;34m\u001b[0m\u001b[0m\n\u001b[0m\u001b[1;32m      7\u001b[0m \u001b[0;32mfrom\u001b[0m \u001b[0mutils\u001b[0m\u001b[0;34m.\u001b[0m\u001b[0mutils\u001b[0m \u001b[0;32mimport\u001b[0m \u001b[0mevaluate\u001b[0m\u001b[0;34m,\u001b[0m\u001b[0mtrain\u001b[0m\u001b[0;34m,\u001b[0m\u001b[0mprepare\u001b[0m\u001b[0;34m\u001b[0m\u001b[0;34m\u001b[0m\u001b[0m\n\u001b[1;32m      8\u001b[0m \u001b[0;32mfrom\u001b[0m \u001b[0mmodels\u001b[0m\u001b[0;34m.\u001b[0m\u001b[0mFIM\u001b[0m \u001b[0;32mimport\u001b[0m \u001b[0mFIMModel\u001b[0m\u001b[0;34m\u001b[0m\u001b[0;34m\u001b[0m\u001b[0m\n",
      "\u001b[0;31mModuleNotFoundError\u001b[0m: No module named 'torch'"
     ]
    }
   ],
   "source": [
    "import os\n",
    "import sys\n",
    "os.chdir('../')\n",
    "sys.path.append('../')\n",
    "\n",
    "import torch\n",
    "from utils.utils import evaluate,train,prepare\n",
    "from models.FIM import FIMModel"
   ]
  },
  {
   "cell_type": "code",
   "execution_count": 2,
   "metadata": {},
   "outputs": [],
   "source": [
    "hparams = {\n",
    "    'scale':'demo',\n",
    "    'name':'fim',\n",
    "    'batch_size':5,\n",
    "    'title_size':20,\n",
    "    'his_size':50,\n",
    "    'npratio':4,\n",
    "    'dropout_p':0.2,\n",
    "    'filter_num':150,\n",
    "    'embedding_dim':300,\n",
    "    'metrics':'auc,mean_mrr,ndcg@5,ndcg@10',\n",
    "    'device':'cuda:0',\n",
    "    'attrs': ['title'],\n",
    "    'epochs':10,\n",
    "    'k':-1,\n",
    "    'select':None,\n",
    "    'save_step':0,\n",
    "    'save_each_epoch':True,\n",
    "    'train_embedding':True,\n",
    "    'mode':'train',\n",
    "    'news_id':False,\n",
    "    'validate':False,\n",
    "}\n",
    ""
   ]
  },
  {
   "cell_type": "code",
   "execution_count": 3,
   "metadata": {},
   "outputs": [],
   "source": [
    "vocab, loaders = prepare(hparams)"
   ]
  },
  {
   "cell_type": "code",
   "execution_count": 4,
   "metadata": {},
   "outputs": [],
   "source": [
    "fimModel = FIMModel(vocab=vocab,hparams=hparams).to(hparams['device'])"
   ]
  },
  {
   "cell_type": "code",
   "execution_count": 5,
   "metadata": {},
   "outputs": [
    {
     "output_type": "stream",
     "name": "stdout",
     "text": [
      "training...\n",
      "epoch 1 , step 500 , loss: 1.5584: : 594it [00:21, 27.73it/s]\n",
      "saved model of epoch 1\n",
      "epoch 2 , step 500 , loss: 1.4449: : 594it [00:21, 27.02it/s]\n",
      "saved model of epoch 2\n",
      "epoch 3 , step 500 , loss: 1.3487: : 594it [00:21, 27.13it/s]\n",
      "saved model of epoch 3\n",
      "epoch 4 , step 500 , loss: 1.2470: : 594it [00:22, 26.59it/s]\n",
      "saved model of epoch 4\n",
      "epoch 5 , step 500 , loss: 1.1708: : 594it [00:21, 27.22it/s]\n",
      "saved model of epoch 5\n",
      "epoch 6 , step 500 , loss: 0.9812: : 594it [00:22, 26.77it/s]\n",
      "saved model of epoch 6\n",
      "epoch 7 , step 500 , loss: 0.7762: : 594it [00:21, 27.25it/s]\n",
      "saved model of epoch 7\n",
      "epoch 8 , step 500 , loss: 0.5168: : 594it [00:22, 26.83it/s]\n",
      "saved model of epoch 8\n",
      "epoch 9 , step 500 , loss: 0.3407: : 594it [00:22, 26.94it/s]\n",
      "saved model of epoch 9\n",
      "epoch 10 , step 500 , loss: 0.2112: : 594it [00:21, 27.08it/s]\n",
      "saved model of epoch 10\n",
      "evaluating...\n",
      "3625it [00:31, 115.55it/s]\n",
      "evaluation results:{'auc': 0.5532, 'mean_mrr': 0.2345, 'ndcg@5': 0.2428, 'ndcg@10': 0.3078}\n"
     ]
    },
    {
     "output_type": "execute_result",
     "data": {
      "text/plain": [
       "FIMModel(\n",
       "  (softmax): Softmax(dim=-1)\n",
       "  (CNN_d1): Conv1d(300, 150, kernel_size=(3,), stride=(1,), padding=(1,))\n",
       "  (CNN_d2): Conv1d(300, 150, kernel_size=(3,), stride=(1,), padding=(2,), dilation=(2,))\n",
       "  (CNN_d3): Conv1d(300, 150, kernel_size=(3,), stride=(1,), padding=(3,), dilation=(3,))\n",
       "  (ReLU): ReLU()\n",
       "  (LayerNorm): LayerNorm((150,), eps=1e-05, elementwise_affine=True)\n",
       "  (DropOut): Dropout(p=0.2, inplace=False)\n",
       "  (SeqCNN3D): Sequential(\n",
       "    (0): Conv3d(3, 32, kernel_size=[3, 3, 3], stride=(1, 1, 1), padding=(1, 1, 1))\n",
       "    (1): ReLU()\n",
       "    (2): MaxPool3d(kernel_size=[3, 3, 3], stride=[3, 3, 3], padding=0, dilation=1, ceil_mode=False)\n",
       "    (3): Conv3d(32, 16, kernel_size=[3, 3, 3], stride=(1, 1, 1), padding=(1, 1, 1))\n",
       "    (4): ReLU()\n",
       "    (5): MaxPool3d(kernel_size=[3, 3, 3], stride=[3, 3, 3], padding=0, dilation=1, ceil_mode=False)\n",
       "  )\n",
       "  (learningToRank): Linear(in_features=320, out_features=1, bias=True)\n",
       ")"
      ]
     },
     "metadata": {},
     "execution_count": 5
    }
   ],
   "source": [
    "train(fimModel, hparams, loaders)"
   ]
  },
  {
   "cell_type": "code",
   "execution_count": null,
   "metadata": {},
   "outputs": [],
   "source": []
  }
 ]
}