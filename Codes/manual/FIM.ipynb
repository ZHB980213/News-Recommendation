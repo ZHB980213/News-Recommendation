{
 "metadata": {
  "language_info": {
   "codemirror_mode": {
    "name": "ipython",
    "version": 3
   },
   "file_extension": ".py",
   "mimetype": "text/x-python",
   "name": "python",
   "nbconvert_exporter": "python",
   "pygments_lexer": "ipython3",
   "version": "3.8.5-final"
  },
  "orig_nbformat": 2,
  "kernelspec": {
   "name": "python3",
   "display_name": "Python 3",
   "language": "python"
  }
 },
 "nbformat": 4,
 "nbformat_minor": 2,
 "cells": [
  {
   "cell_type": "code",
   "execution_count": 1,
   "metadata": {},
   "outputs": [],
   "source": [
    "import os\n",
    "import sys\n",
    "os.chdir('../')\n",
    "sys.path.append('../')\n",
    "\n",
    "import torch\n",
    "from utils.utils import evaluate,train,prepare\n",
    "from models.FIM import FIMModel"
   ]
  },
  {
   "cell_type": "code",
   "execution_count": 2,
   "metadata": {},
   "outputs": [],
   "source": [
    "hparams = {\n",
    "    'scale':'demo',\n",
    "    'name':'fim',\n",
    "    'batch_size':100,\n",
    "    'title_size':20,\n",
    "    'his_size':50,\n",
    "    'npratio':4,\n",
    "    'dropout_p':0.2,\n",
    "    'filter_num':150,\n",
    "    'embedding_dim':300,\n",
    "    'metrics':'auc,mean_mrr,ndcg@5,ndcg@10',\n",
    "    'device':'cuda:1',\n",
    "    'attrs': ['title'],\n",
    "    'epochs':1,\n",
    "    'k':-1,\n",
    "    'select':None,\n",
    "    'save_step':[0],\n",
    "    'save_each_epoch':True,\n",
    "    'train_embedding':True,\n",
    "    'mode':'train',\n",
    "    'news_id':False,\n",
    "    'validate':False,\n",
    "}\n"
   ]
  },
  {
   "cell_type": "code",
   "execution_count": 3,
   "metadata": {},
   "outputs": [
    {
     "output_type": "stream",
     "name": "stderr",
     "text": [
      "[2021-03-16 12:48:07,818] INFO (root) Hyper Parameters are\n",
      "{'scale': 'demo', 'name': 'fim', 'batch_size': 100, 'title_size': 20, 'his_size': 50, 'npratio': 4, 'dropout_p': 0.2, 'filter_num': 150, 'embedding_dim': 300, 'metrics': 'auc,mean_mrr,ndcg@5,ndcg@10', 'device': 'cuda:1', 'attrs': ['title'], 'epochs': 1, 'k': -1, 'select': None, 'save_step': [0], 'save_each_epoch': True, 'train_embedding': True, 'mode': 'train', 'news_id': False, 'validate': False}\n",
      "[2021-03-16 12:48:07,819] INFO (root) preparing dataset...\n",
      "[2021-03-16 12:48:10,142] INFO (torchtext.vocab) Loading vectors from .vector_cache/glove.840B.300d.txt.pt\n"
     ]
    }
   ],
   "source": [
    "vocab, loaders = prepare(hparams)"
   ]
  },
  {
   "cell_type": "code",
   "execution_count": 4,
   "metadata": {},
   "outputs": [],
   "source": [
    "fimModel = FIMModel(vocab=vocab,hparams=hparams).to(hparams['device'])"
   ]
  },
  {
   "cell_type": "code",
   "execution_count": 9,
   "metadata": {},
   "outputs": [
    {
     "output_type": "stream",
     "name": "stderr",
     "text": [
      "[2021-03-16 12:49:57,734] INFO (root) training...\n",
      "epoch 1 , step 30 , loss: 1.3603: : 32it [00:10,  3.16it/s]\n",
      "[2021-03-16 12:50:08,732] INFO (root) saved model of epoch 1 at data/model_params/fim/demo_epoch1_step0_[hs=50,topk=-1].model\n",
      "[2021-03-16 12:50:08,737] INFO (root) evaluating...\n",
      "186it [00:05, 33.34it/s]\n",
      "[2021-03-16 12:50:15,430] INFO (root) evaluation results:{'auc': 0.5778, 'mean_mrr': 0.2603, 'ndcg@5': 0.2724, 'ndcg@10': 0.3441, 'step': 0}\n"
     ]
    },
    {
     "output_type": "execute_result",
     "data": {
      "text/plain": [
       "FIMModel(\n",
       "  (softmax): Softmax(dim=-1)\n",
       "  (CNN_d1): Conv1d(300, 150, kernel_size=(3,), stride=(1,), padding=(1,))\n",
       "  (CNN_d2): Conv1d(300, 150, kernel_size=(3,), stride=(1,), padding=(2,), dilation=(2,))\n",
       "  (CNN_d3): Conv1d(300, 150, kernel_size=(3,), stride=(1,), padding=(3,), dilation=(3,))\n",
       "  (ReLU): ReLU()\n",
       "  (LayerNorm): LayerNorm((150,), eps=1e-05, elementwise_affine=True)\n",
       "  (DropOut): Dropout(p=0.2, inplace=False)\n",
       "  (SeqCNN3D): Sequential(\n",
       "    (0): Conv3d(3, 32, kernel_size=[3, 3, 3], stride=(1, 1, 1), padding=(1, 1, 1))\n",
       "    (1): ReLU()\n",
       "    (2): MaxPool3d(kernel_size=[3, 3, 3], stride=[3, 3, 3], padding=0, dilation=1, ceil_mode=False)\n",
       "    (3): Conv3d(32, 16, kernel_size=[3, 3, 3], stride=(1, 1, 1), padding=(1, 1, 1))\n",
       "    (4): ReLU()\n",
       "    (5): MaxPool3d(kernel_size=[3, 3, 3], stride=[3, 3, 3], padding=0, dilation=1, ceil_mode=False)\n",
       "  )\n",
       "  (learningToRank): Linear(in_features=320, out_features=1, bias=True)\n",
       ")"
      ]
     },
     "metadata": {},
     "execution_count": 9
    }
   ],
   "source": [
    "train(fimModel, hparams, loaders, interval=10)"
   ]
  },
  {
   "cell_type": "code",
   "execution_count": 10,
   "metadata": {},
   "outputs": [
    {
     "output_type": "stream",
     "name": "stderr",
     "text": [
      "[2021-03-16 12:50:26,991] INFO (root) evaluating...\n",
      "186it [00:05, 32.90it/s]\n",
      "[2021-03-16 12:50:33,583] INFO (root) evaluation results:{'auc': 0.5778, 'mean_mrr': 0.2603, 'ndcg@5': 0.2724, 'ndcg@10': 0.3441, 'step': 0}\n"
     ]
    },
    {
     "output_type": "execute_result",
     "data": {
      "text/plain": [
       "{'auc': 0.5778,\n",
       " 'mean_mrr': 0.2603,\n",
       " 'ndcg@5': 0.2724,\n",
       " 'ndcg@10': 0.3441,\n",
       " 'step': 0}"
      ]
     },
     "metadata": {},
     "execution_count": 10
    }
   ],
   "source": [
    "evaluate(fimModel, hparams, loaders[1])"
   ]
  },
  {
   "cell_type": "code",
   "execution_count": null,
   "metadata": {},
   "outputs": [],
   "source": []
  }
 ]
}