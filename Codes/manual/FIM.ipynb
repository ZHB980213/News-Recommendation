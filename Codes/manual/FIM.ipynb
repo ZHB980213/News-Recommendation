{
 "metadata": {
  "language_info": {
   "codemirror_mode": {
    "name": "ipython",
    "version": 3
   },
   "file_extension": ".py",
   "mimetype": "text/x-python",
   "name": "python",
   "nbconvert_exporter": "python",
   "pygments_lexer": "ipython3",
   "version": "3.7.9-final"
  },
  "orig_nbformat": 2,
  "kernelspec": {
   "name": "python37964bit4c03300bedca44f8b0013abe02048abc",
   "display_name": "Python 3.7.9 64-bit",
   "language": "python"
  }
 },
 "nbformat": 4,
 "nbformat_minor": 2,
 "cells": [
  {
   "cell_type": "code",
   "execution_count": 1,
   "metadata": {},
   "outputs": [],
   "source": [
    "import os\n",
    "import sys\n",
    "os.chdir('../')\n",
    "sys.path.append('../')\n",
    "\n",
    "import torch\n",
    "from utils.utils import evaluate,train,prepare\n",
    "from models.FIM import FIMModel"
   ]
  },
  {
   "cell_type": "code",
   "execution_count": 2,
   "metadata": {},
   "outputs": [],
   "source": [
    "hparams = {\n",
    "    'scale':'demo',\n",
    "    'name':'fim',\n",
    "    'batch_size':5,\n",
    "    'title_size':20,\n",
    "    'his_size':50,\n",
    "    'npratio':4,\n",
    "    'dropout_p':0.2,\n",
    "    'filter_num':150,\n",
    "    'embedding_dim':300,\n",
    "    'metrics':'group_auc,ndcg@5,ndcg@10,mean_mrr',\n",
    "    'device':'cuda:0',\n",
    "    'attrs': ['title'],\n",
    "    'epochs':5,\n",
    "    'k':None,\n",
    "    'save_step':None,\n",
    "    'save_each_epoch':False,\n",
    "    'train_embedding':False,\n",
    "}\n",
    "device = torch.device(hparams['device'])"
   ]
  },
  {
   "cell_type": "code",
   "execution_count": 3,
   "metadata": {},
   "outputs": [],
   "source": [
    "vocab, loader_train, loader_test, loader_validate = prepare(hparams, validate=True)"
   ]
  },
  {
   "cell_type": "code",
   "execution_count": 4,
   "metadata": {},
   "outputs": [],
   "source": [
    "fimModel = FIMModel(vocab=vocab,hparams=hparams).to(device)"
   ]
  },
  {
   "cell_type": "code",
   "execution_count": 5,
   "metadata": {},
   "outputs": [
    {
     "output_type": "stream",
     "name": "stdout",
     "text": [
      "training...\n",
      "epoch 0 , step 390 , loss: 1.5462: : 400it [00:13, 30.27it/s]\n",
      "epoch 1 , step 390 , loss: 1.4688: : 400it [00:13, 30.44it/s]\n",
      "epoch 2 , step 390 , loss: 1.4108: : 400it [00:12, 31.24it/s]\n",
      "epoch 3 , step 390 , loss: 1.3412: : 400it [00:12, 31.00it/s]\n",
      "epoch 4 , step 390 , loss: 1.2497: : 400it [00:13, 30.25it/s]\n",
      "0it [00:00, ?it/s]testing...\n",
      "3622it [00:20, 176.20it/s]\n",
      "0it [00:00, ?it/s]evaluation results:{'group_auc': 0.5706, 'ndcg@5': 0.3, 'ndcg@10': 0.3621, 'mean_mrr': 0.278}\n",
      "validating...\n",
      "15062it [01:21, 184.13it/s]\n",
      "evaluation results:{'group_auc': 0.7859, 'ndcg@5': 0.4785, 'ndcg@10': 0.53, 'mean_mrr': 0.4346}\n"
     ]
    }
   ],
   "source": [
    "train(fimModel, hparams, loader_train, loader_test, loader_validate, save=False)"
   ]
  },
  {
   "cell_type": "code",
   "execution_count": null,
   "metadata": {},
   "outputs": [],
   "source": []
  }
 ]
}