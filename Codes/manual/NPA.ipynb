{
 "metadata": {
  "language_info": {
   "codemirror_mode": {
    "name": "ipython",
    "version": 3
   },
   "file_extension": ".py",
   "mimetype": "text/x-python",
   "name": "python",
   "nbconvert_exporter": "python",
   "pygments_lexer": "ipython3",
   "version": "3.8.5-final"
  },
  "orig_nbformat": 2,
  "kernelspec": {
   "name": "python38564bitnnconda048fc75fe4ee43f1aa97608c8881ebba",
   "display_name": "Python 3.8.5 64-bit ('nn': conda)",
   "language": "python"
  }
 },
 "nbformat": 4,
 "nbformat_minor": 2,
 "cells": [
  {
   "cell_type": "code",
   "execution_count": 1,
   "metadata": {},
   "outputs": [],
   "source": [
    "import os\n",
    "import sys\n",
    "os.chdir('/home/peitian_zhang/Codes/News-Recommendation')\n",
    "sys.path.append('/home/peitian_zhang/Codes/News-Recommendation')\n",
    "\n",
    "import torch\n",
    "from utils.utils import evaluate,train,prepare,load_hparams\n",
    "from models.NPA import NPAModel"
   ]
  },
  {
   "cell_type": "markdown",
   "metadata": {},
   "source": [
    "## setting up the *NPA* model\n",
    "\n",
    "### define paths and hyperparameters, load data\n",
    "\n",
    "all these hyper parameters are fixed according to the paper [\\[23\\] Npa Neural news recommendation with personalized attention](https://dl.acm.org/doi/abs/10.1145/3292500.3330665)\n",
    "\n",
    "- *mode*: data to read (*demo*/*small*/*large*)\n",
    "\n",
    "- *batch_size*: size of each minibatch\n",
    "\n",
    "- *title_size*: max word capacity of title\n",
    "\n",
    "- *his_size*: max record capacity of click history\n",
    "\n",
    "- *npratio*: number of negtive sampling\n",
    "\n",
    "- *dropout_p*: probability of dropout layer\n",
    "\n",
    "- *filter_num*: number of kernels in 1D CNN, which is also embedding dimension of news/user\n",
    "\n",
    "- *embedding_dim*: word embedding dimension\n",
    "\n",
    "- *user_dim*: user id embedding dimension\n",
    "\n",
    "- *preference_dim*: user preference embedding dimension"
   ]
  },
  {
   "cell_type": "code",
   "execution_count": 2,
   "metadata": {},
   "outputs": [],
   "source": [
    "hparams = {\n",
    "    'name':'npa',\n",
    "    'epochs':10,\n",
    "    'scale':'demo',\n",
    "    'batch_size':100,\n",
    "    'title_size':20,\n",
    "    'his_size':50,\n",
    "    'npratio':4,\n",
    "    'dropout_p':0.2,\n",
    "    'filter_num':400,\n",
    "    'embedding_dim':300,\n",
    "    'user_dim':50,\n",
    "    'preference_dim':200,\n",
    "    'metrics':'auc,mean_mrr,ndcg@5,ndcg@10',\n",
    "    'attrs': ['title'],\n",
    "    'device':'cuda:0',\n",
    "    'k':-1,\n",
    "    'select':None,\n",
    "    'save_step':[0],\n",
    "    'save_each_epoch':False,\n",
    "    'train_embedding':True,\n",
    "    'mode':'train',\n",
    "    'news_id':False,\n",
    "    'validate':False,\n",
    "}\n",
    "\n",
    ""
   ]
  },
  {
   "cell_type": "code",
   "execution_count": 3,
   "metadata": {},
   "outputs": [],
   "source": [
    "vocab, loaders = prepare(hparams)"
   ]
  },
  {
   "cell_type": "code",
   "execution_count": 4,
   "metadata": {},
   "outputs": [],
   "source": [
    "npaModel = NPAModel(vocab=vocab,hparams=hparams,uid2idx=loaders[0].dataset.uid2index).to(hparams['device'])"
   ]
  },
  {
   "cell_type": "code",
   "execution_count": 5,
   "metadata": {},
   "outputs": [
    {
     "output_type": "stream",
     "name": "stdout",
     "text": [
      "training...\n",
      "epoch 1 , step 30 , loss: 1.6110: : 32it [00:03,  8.55it/s]\n",
      "epoch 2 , step 30 , loss: 1.4974: : 32it [00:03,  9.84it/s]\n",
      "epoch 3 , step 30 , loss: 1.4103: : 32it [00:03,  9.70it/s]\n",
      "epoch 4 , step 30 , loss: 1.3182: : 32it [00:03,  9.86it/s]\n",
      "epoch 5 , step 30 , loss: 1.2447: : 32it [00:03,  9.73it/s]\n",
      "epoch 6 , step 30 , loss: 1.1726: : 32it [00:03,  9.97it/s]\n",
      "epoch 7 , step 30 , loss: 1.0813: : 32it [00:03,  9.85it/s]\n",
      "epoch 8 , step 30 , loss: 1.0013: : 32it [00:03,  9.79it/s]\n",
      "epoch 9 , step 30 , loss: 0.9529: : 32it [00:03,  9.80it/s]\n",
      "epoch 10 , step 30 , loss: 0.8521: : 32it [00:03,  9.95it/s]evaluating...\n",
      "\n",
      "186it [00:04, 46.16it/s]\n",
      "evaluation results:{'auc': 0.5591, 'mean_mrr': 0.2486, 'ndcg@5': 0.2591, 'ndcg@10': 0.3302}\n"
     ]
    },
    {
     "output_type": "execute_result",
     "data": {
      "text/plain": [
       "NPAModel(\n",
       "  (softmax): Softmax(dim=-1)\n",
       "  (wordQueryProject): Linear(in_features=50, out_features=200, bias=True)\n",
       "  (newsQueryProject): Linear(in_features=50, out_features=200, bias=True)\n",
       "  (wordPrefProject): Linear(in_features=200, out_features=400, bias=True)\n",
       "  (newsPrefProject): Linear(in_features=200, out_features=400, bias=True)\n",
       "  (CNN): Conv1d(300, 400, kernel_size=(3,), stride=(1,), padding=(1,))\n",
       "  (RELU): ReLU()\n",
       "  (DropOut): Dropout(p=0.2, inplace=False)\n",
       ")"
      ]
     },
     "metadata": {},
     "execution_count": 5
    }
   ],
   "source": [
    "train(npaModel, hparams, loaders, interval=10)"
   ]
  },
  {
   "cell_type": "code",
   "execution_count": null,
   "metadata": {},
   "outputs": [],
   "source": []
  }
 ]
}