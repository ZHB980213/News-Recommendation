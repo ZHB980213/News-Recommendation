{
 "metadata": {
  "language_info": {
   "codemirror_mode": {
    "name": "ipython",
    "version": 3
   },
   "file_extension": ".py",
   "mimetype": "text/x-python",
   "name": "python",
   "nbconvert_exporter": "python",
   "pygments_lexer": "ipython3",
   "version": "3.8.5-final"
  },
  "orig_nbformat": 2,
  "kernelspec": {
   "name": "python38564bitnnconda048fc75fe4ee43f1aa97608c8881ebba",
   "display_name": "Python 3.8.5 64-bit ('nn': conda)",
   "language": "python"
  }
 },
 "nbformat": 4,
 "nbformat_minor": 2,
 "cells": [
  {
   "cell_type": "code",
   "execution_count": 1,
   "metadata": {},
   "outputs": [],
   "source": [
    "import os\n",
    "import sys\n",
    "os.chdir('../')\n",
    "sys.path.append('../')\n",
    "\n",
    "import torch\n",
    "from utils.utils import evaluate,train,prepare\n",
    "from models.SFI_FIM import SFIModel_gating,SFIModel_unified"
   ]
  },
  {
   "cell_type": "code",
   "execution_count": 2,
   "metadata": {},
   "outputs": [],
   "source": [
    "hparams = {\n",
    "    'scale':'demo',\n",
    "    'name':'sfi-fim',\n",
    "    'batch_size':10,\n",
    "    'title_size':20,\n",
    "    'his_size':50,\n",
    "    'npratio':4,\n",
    "    'dropout_p':0.2,\n",
    "    'embedding_dim':300,\n",
    "    'filter_num':150,\n",
    "    'epochs':1,\n",
    "    'metrics':'auc,group_auc,mean_mrr,ndcg@5,ndcg@10',\n",
    "    'device':'cuda:1',\n",
    "    'attrs': ['title'],\n",
    "    'integration':'harmony',\n",
    "    'k':10,\n",
    "    'save_step':0,\n",
    "    'save_each_epoch':True,\n",
    "    'train_embedding':True\n",
    "}\n",
    "\n",
    "device = torch.device(hparams['device'])\n",
    "torch.cuda.set_device(hparams['device'])"
   ]
  },
  {
   "cell_type": "code",
   "execution_count": 5,
   "metadata": {},
   "outputs": [],
   "source": [
    "vocab, loaders = prepare(hparams)"
   ]
  },
  {
   "cell_type": "code",
   "execution_count": 6,
   "metadata": {},
   "outputs": [],
   "source": [
    "hparams['select'] = 'gating'\n",
    "sfiModel_gating = SFIModel_gating(hparams, vocab=vocab).to(device)"
   ]
  },
  {
   "cell_type": "code",
   "execution_count": 7,
   "metadata": {},
   "outputs": [
    {
     "output_type": "stream",
     "name": "stdout",
     "text": [
      "training...\n",
      "epoch 1 , step 200 , loss: 1.5666: : 299it [00:20, 14.77it/s]\n",
      "saved model of epoch 1\n",
      "testing...\n",
      "1815it [00:34, 52.60it/s]\n",
      "evaluation results:{'group_auc': 0.5488, 'mean_mrr': 0.2555, 'ndcg@5': 0.2644, 'ndcg@10': 0.3321}\n",
      "validating...\n",
      "7535it [02:20, 53.48it/s]\n",
      "evaluation results:{'group_auc': 0.651, 'mean_mrr': 0.3201, 'ndcg@5': 0.3435, 'ndcg@10': 0.4007}\n"
     ]
    },
    {
     "output_type": "execute_result",
     "data": {
      "text/plain": [
       "SFIModel_gating(\n",
       "  (softmax): Softmax(dim=-1)\n",
       "  (CNN_d1): Conv1d(300, 150, kernel_size=(3,), stride=(1,), padding=(1,))\n",
       "  (CNN_d2): Conv1d(300, 150, kernel_size=(3,), stride=(1,), padding=(2,), dilation=(2,))\n",
       "  (CNN_d3): Conv1d(300, 150, kernel_size=(3,), stride=(1,), padding=(3,), dilation=(3,))\n",
       "  (ReLU): ReLU()\n",
       "  (LayerNorm): LayerNorm((150,), eps=1e-05, elementwise_affine=True)\n",
       "  (DropOut): Dropout(p=0.2, inplace=False)\n",
       "  (SeqCNN3D): Sequential(\n",
       "    (0): Conv3d(3, 32, kernel_size=[3, 3, 3], stride=(1, 1, 1), padding=(1, 1, 1))\n",
       "    (1): ReLU()\n",
       "    (2): MaxPool3d(kernel_size=[3, 3, 3], stride=[3, 3, 3], padding=0, dilation=1, ceil_mode=False)\n",
       "    (3): Conv3d(32, 16, kernel_size=[3, 3, 3], stride=(1, 1, 1), padding=(1, 1, 1))\n",
       "    (4): ReLU()\n",
       "    (5): MaxPool3d(kernel_size=[3, 3, 3], stride=[3, 3, 3], padding=0, dilation=1, ceil_mode=False)\n",
       "  )\n",
       "  (learningToRank): Linear(in_features=64, out_features=1, bias=True)\n",
       ")"
      ]
     },
     "metadata": {},
     "execution_count": 7
    }
   ],
   "source": [
    "train(sfiModel_gating, hparams, loaders[0], loaders[1], loaders[2])"
   ]
  },
  {
   "cell_type": "code",
   "execution_count": 5,
   "metadata": {},
   "outputs": [],
   "source": [
    "hparams['select'] = 'unified'\n",
    "sfiModel_unified = SFIModel_unified(hparams, vocab=vocab).to(device)"
   ]
  },
  {
   "cell_type": "code",
   "execution_count": null,
   "metadata": {},
   "outputs": [],
   "source": [
    "train(sfiModel_unified, hparams, loaders[0], loaders[1], loaders[2])"
   ]
  },
  {
   "cell_type": "code",
   "execution_count": null,
   "metadata": {},
   "outputs": [],
   "source": [
    "hparams['select'] = 'unified'\n",
    "hparams['integration'] = 'gate'\n",
    "sfiModel_unified = SFIModel_unified(hparams, vocab=vocab).to(device)"
   ]
  },
  {
   "cell_type": "code",
   "execution_count": null,
   "metadata": {},
   "outputs": [],
   "source": [
    "train(sfiModel_unified, hparams, loaders[0], loaders[1], loaders[2])"
   ]
  },
  {
   "cell_type": "code",
   "execution_count": 9,
   "metadata": {},
   "outputs": [],
   "source": [
    "t = SFIModel_gating(hparams, vocab).to(device)\n",
    "t.cdd_size = 1\n",
    "\n",
    "record = next(iter(loaders[1]))"
   ]
  },
  {
   "cell_type": "code",
   "execution_count": null,
   "metadata": {},
   "outputs": [],
   "source": []
  }
 ]
}