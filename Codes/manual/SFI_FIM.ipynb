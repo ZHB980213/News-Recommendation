{
 "metadata": {
  "language_info": {
   "codemirror_mode": {
    "name": "ipython",
    "version": 3
   },
   "file_extension": ".py",
   "mimetype": "text/x-python",
   "name": "python",
   "nbconvert_exporter": "python",
   "pygments_lexer": "ipython3",
   "version": "3.8.5-final"
  },
  "orig_nbformat": 2,
  "kernelspec": {
   "name": "python38564bitnnconda048fc75fe4ee43f1aa97608c8881ebba",
   "display_name": "Python 3.8.5 64-bit ('nn': conda)",
   "language": "python"
  }
 },
 "nbformat": 4,
 "nbformat_minor": 2,
 "cells": [
  {
   "cell_type": "code",
   "execution_count": 1,
   "metadata": {},
   "outputs": [],
   "source": [
    "import os\n",
    "import sys\n",
    "os.chdir('../')\n",
    "sys.path.append('../')\n",
    "\n",
    "import torch\n",
    "from utils.utils import evaluate,train,prepare\n",
    "from models.SFI_FIM import SFIModel_pipeline,SFIModel_gating,SFIModel_unified"
   ]
  },
  {
   "cell_type": "code",
   "execution_count": 2,
   "metadata": {},
   "outputs": [],
   "source": [
    "hparams = {\n",
    "    'scale':'demo',\n",
    "    'name':'sfi-fim',\n",
    "    'batch_size':10,\n",
    "    'title_size':20,\n",
    "    'his_size':50,\n",
    "    'npratio':4,\n",
    "    'dropout_p':0.2,\n",
    "    'embedding_dim':300,\n",
    "    'filter_num':150,\n",
    "    'epochs':10,\n",
    "    'metrics':'group_auc,mean_mrr,ndcg@5,ndcg@10',\n",
    "    'device':'cuda:0',\n",
    "    'attrs': ['title'],\n",
    "    'integration':'harmony',\n",
    "    'k':10,\n",
    "    'save_step':None,\n",
    "    'save_each_epoch':False,\n",
    "    'train_embedding':False\n",
    "}\n",
    "\n",
    "device = torch.device(hparams['device'])"
   ]
  },
  {
   "cell_type": "code",
   "execution_count": 3,
   "metadata": {},
   "outputs": [],
   "source": [
    "vocab, loader_train, loader_test, loader_validate = prepare(hparams, validate=True)"
   ]
  },
  {
   "cell_type": "code",
   "execution_count": 4,
   "metadata": {},
   "outputs": [],
   "source": [
    "sfiModel_gating = SFIModel_gating(hparams, vocab=vocab).to(device)"
   ]
  },
  {
   "cell_type": "code",
   "execution_count": 6,
   "metadata": {},
   "outputs": [
    {
     "output_type": "stream",
     "name": "stdout",
     "text": [
      "training...\n",
      "epoch 1 , step 190 , loss: 1.5481: : 200it [00:11, 17.77it/s]\n",
      "epoch 2 , step 190 , loss: 1.4636: : 200it [00:10, 18.50it/s]\n",
      "epoch 3 , step 190 , loss: 1.4078: : 200it [00:10, 18.95it/s]\n",
      "epoch 4 , step 190 , loss: 1.3435: : 200it [00:10, 19.10it/s]\n",
      "epoch 5 , step 190 , loss: 1.2842: : 200it [00:10, 19.04it/s]\n",
      "epoch 6 , step 190 , loss: 1.2278: : 200it [00:10, 19.14it/s]\n",
      "epoch 7 , step 190 , loss: 1.2054: : 200it [00:10, 19.11it/s]\n",
      "epoch 8 , step 190 , loss: 1.1468: : 200it [00:10, 19.11it/s]\n",
      "epoch 9 , step 190 , loss: 1.1057: : 200it [00:10, 19.00it/s]\n",
      "epoch 10 , step 190 , loss: 1.0459: : 200it [00:10, 19.18it/s]\n",
      "0it [00:00, ?it/s]testing...\n",
      "1811it [00:41, 43.70it/s]\n",
      "0it [00:00, ?it/s]evaluation results:{'group_auc': 0.5344, 'ndcg@5': 0.253, 'ndcg@10': 0.3183, 'mean_mrr': 0.2377}\n",
      "validating...\n",
      "7531it [02:49, 44.42it/s]\n",
      "evaluation results:{'group_auc': 0.8349, 'ndcg@5': 0.5501, 'ndcg@10': 0.5959, 'mean_mrr': 0.4988}\n"
     ]
    }
   ],
   "source": [
    "train(sfiModel_gating, hparams, loader_train, loader_test, loader_validate)"
   ]
  },
  {
   "cell_type": "code",
   "execution_count": 4,
   "metadata": {},
   "outputs": [],
   "source": [
    "sfiModel_pipeline = SFIModel_pipeline(hparams, vocab=vocab).to(device)"
   ]
  },
  {
   "cell_type": "code",
   "execution_count": 5,
   "metadata": {},
   "outputs": [
    {
     "output_type": "stream",
     "name": "stdout",
     "text": [
      "training...\n",
      "epoch 1 , step 190 , loss: 1.6079: : 200it [00:05, 38.62it/s]\n",
      "epoch 2 , step 190 , loss: 1.5874: : 200it [00:04, 41.63it/s]\n",
      "epoch 3 , step 190 , loss: 1.5785: : 200it [00:04, 44.47it/s]\n",
      "epoch 4 , step 190 , loss: 1.5661: : 200it [00:04, 42.99it/s]\n",
      "epoch 5 , step 190 , loss: 1.5526: : 200it [00:04, 43.46it/s]\n",
      "epoch 6 , step 190 , loss: 1.5363: : 200it [00:04, 41.74it/s]\n",
      "epoch 7 , step 190 , loss: 1.5381: : 200it [00:04, 43.62it/s]\n",
      "epoch 8 , step 190 , loss: 1.5146: : 200it [00:04, 42.60it/s]\n",
      "epoch 9 , step 190 , loss: 1.4995: : 200it [00:04, 43.96it/s]\n",
      "epoch 10 , step 190 , loss: 1.4976: : 200it [00:04, 42.31it/s]\n",
      "0it [00:00, ?it/s]testing...\n",
      "1811it [00:20, 88.40it/s]\n",
      "0it [00:00, ?it/s]evaluation results:{'group_auc': 0.5698, 'ndcg@5': 0.2822, 'ndcg@10': 0.3379, 'mean_mrr': 0.2565}\n",
      "validating...\n",
      "7531it [01:23, 90.29it/s]\n",
      "evaluation results:{'group_auc': 0.662, 'ndcg@5': 0.3738, 'ndcg@10': 0.4294, 'mean_mrr': 0.3471}\n"
     ]
    }
   ],
   "source": [
    "train(sfiModel_pipeline, hparams, loader_train, loader_test, loader_validate)"
   ]
  },
  {
   "cell_type": "code",
   "execution_count": 4,
   "metadata": {},
   "outputs": [],
   "source": [
    "sfiModel_unified = SFIModel_unified(hparams, vocab=vocab).to(device)"
   ]
  },
  {
   "cell_type": "code",
   "execution_count": 5,
   "metadata": {},
   "outputs": [
    {
     "output_type": "stream",
     "name": "stdout",
     "text": [
      "training...\n",
      "epoch 1 , step 190 , loss: 1.6171: : 200it [00:10, 18.99it/s]\n",
      "epoch 2 , step 190 , loss: 1.6150: : 200it [00:09, 20.15it/s]\n",
      "epoch 3 , step 190 , loss: 1.6102: : 200it [00:09, 20.26it/s]\n",
      "epoch 4 , step 190 , loss: 1.6069: : 200it [00:09, 20.23it/s]\n",
      "epoch 5 , step 190 , loss: 1.5990: : 200it [00:09, 20.20it/s]\n",
      "epoch 6 , step 190 , loss: 1.5964: : 200it [00:09, 20.45it/s]\n",
      "epoch 7 , step 190 , loss: 1.5810: : 200it [00:09, 20.02it/s]\n",
      "epoch 8 , step 190 , loss: 1.5674: : 200it [00:09, 20.35it/s]\n",
      "epoch 9 , step 190 , loss: 1.5469: : 200it [00:09, 20.68it/s]\n",
      "epoch 10 , step 190 , loss: 1.5197: : 200it [00:09, 20.09it/s]\n",
      "0it [00:00, ?it/s]testing...\n",
      "1811it [00:37, 48.93it/s]\n",
      "0it [00:00, ?it/s]evaluation results:{'group_auc': 0.501, 'ndcg@5': 0.2232, 'ndcg@10': 0.2849, 'mean_mrr': 0.2132}\n",
      "validating...\n",
      "7531it [02:32, 49.47it/s]\n",
      "evaluation results:{'group_auc': 0.6477, 'ndcg@5': 0.3603, 'ndcg@10': 0.4122, 'mean_mrr': 0.3402}\n"
     ]
    }
   ],
   "source": [
    "train(sfiModel_unified, hparams, loader_train, loader_test, loader_validate)"
   ]
  },
  {
   "cell_type": "code",
   "execution_count": 6,
   "metadata": {},
   "outputs": [],
   "source": [
    "hparams['integration'] = 'gate'\n",
    "sfiModel_unified = SFIModel_unified(hparams, vocab=vocab).to(device)"
   ]
  },
  {
   "cell_type": "code",
   "execution_count": 7,
   "metadata": {},
   "outputs": [
    {
     "output_type": "stream",
     "name": "stdout",
     "text": [
      "training...\n",
      "epoch 1 , step 190 , loss: 1.5371: : 200it [00:09, 20.89it/s]\n",
      "epoch 2 , step 190 , loss: 1.4665: : 200it [00:09, 20.15it/s]\n",
      "epoch 3 , step 190 , loss: 1.4073: : 200it [00:08, 23.69it/s]\n",
      "epoch 4 , step 190 , loss: 1.3886: : 200it [00:10, 19.96it/s]\n",
      "epoch 5 , step 190 , loss: 1.3242: : 200it [00:10, 19.83it/s]\n",
      "epoch 6 , step 190 , loss: 1.3090: : 200it [00:09, 20.22it/s]\n",
      "epoch 7 , step 190 , loss: 1.2726: : 200it [00:09, 20.09it/s]\n",
      "epoch 8 , step 190 , loss: 1.2539: : 200it [00:10, 19.84it/s]\n",
      "epoch 9 , step 190 , loss: 1.2028: : 200it [00:09, 20.04it/s]\n",
      "epoch 10 , step 190 , loss: 1.1305: : 200it [00:09, 20.02it/s]\n",
      "5it [00:00, 47.47it/s]testing...\n",
      "1811it [00:36, 50.03it/s]\n",
      "5it [00:00, 48.43it/s]evaluation results:{'group_auc': 0.558, 'ndcg@5': 0.2602, 'ndcg@10': 0.3238, 'mean_mrr': 0.2393}\n",
      "validating...\n",
      "7531it [02:31, 49.73it/s]\n",
      "evaluation results:{'group_auc': 0.8044, 'ndcg@5': 0.5032, 'ndcg@10': 0.5479, 'mean_mrr': 0.451}\n"
     ]
    }
   ],
   "source": [
    "train(sfModel_unified, hparams, loader_train, loader_test, loader_validate)"
   ]
  },
  {
   "cell_type": "code",
   "execution_count": null,
   "metadata": {},
   "outputs": [],
   "source": []
  }
 ]
}