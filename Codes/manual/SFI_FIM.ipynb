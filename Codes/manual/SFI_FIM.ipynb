{
 "metadata": {
  "language_info": {
   "codemirror_mode": {
    "name": "ipython",
    "version": 3
   },
   "file_extension": ".py",
   "mimetype": "text/x-python",
   "name": "python",
   "nbconvert_exporter": "python",
   "pygments_lexer": "ipython3",
   "version": "3.8.5-final"
  },
  "orig_nbformat": 2,
  "kernelspec": {
   "name": "python3",
   "display_name": "Python 3",
   "language": "python"
  }
 },
 "nbformat": 4,
 "nbformat_minor": 2,
 "cells": [
  {
   "cell_type": "code",
   "execution_count": 1,
   "metadata": {},
   "outputs": [],
   "source": [
    "import os\n",
    "import sys\n",
    "os.chdir('../')\n",
    "sys.path.append('../')\n",
    "\n",
    "import torch\n",
    "from utils.utils import evaluate,train,prepare\n",
    "from models.SFI_FIM import SFIModel_gating,SFIModel_unified"
   ]
  },
  {
   "cell_type": "code",
   "execution_count": 2,
   "metadata": {},
   "outputs": [],
   "source": [
    "hparams = {\n",
    "    'scale':'demo',\n",
    "    'name':'sfi-fim',\n",
    "    'batch_size':10,\n",
    "    'title_size':20,\n",
    "    'his_size':50,\n",
    "    'npratio':4,\n",
    "    'dropout_p':0.2,\n",
    "    'embedding_dim':300,\n",
    "    'filter_num':150,\n",
    "    'epochs':1,\n",
    "    'metrics':'auc,mean_mrr,ndcg@5,ndcg@10',\n",
    "    'device':'cuda:1',\n",
    "    'attrs': ['title'],\n",
    "    'integration':'harmony',\n",
    "    'k':10,\n",
    "    'save_step':0,\n",
    "    'save_each_epoch':True,\n",
    "    'train_embedding':True,\n",
    "    'mode':'train',\n",
    "    'news_id':False,\n",
    "    'validate':False,\n",
    "}"
   ]
  },
  {
   "cell_type": "code",
   "execution_count": 3,
   "metadata": {},
   "outputs": [
    {
     "output_type": "stream",
     "name": "stderr",
     "text": [
      "[2021-03-12 14:13:18,217] INFO (root) Hyper Parameters are\n",
      "{'scale': 'demo', 'name': 'sfi-fim', 'batch_size': 10, 'title_size': 20, 'his_size': 50, 'npratio': 4, 'dropout_p': 0.2, 'embedding_dim': 300, 'filter_num': 150, 'epochs': 1, 'metrics': 'auc,mean_mrr,ndcg@5,ndcg@10', 'device': 'cuda:1', 'attrs': ['title'], 'integration': 'harmony', 'k': 10, 'save_step': 0, 'save_each_epoch': True, 'train_embedding': True, 'mode': 'train', 'news_id': False, 'validate': False}\n",
      "[2021-03-12 14:13:18,218] INFO (root) preparing dataset...\n",
      "[2021-03-12 14:13:20,441] INFO (torchtext.vocab) Loading vectors from .vector_cache/glove.840B.300d.txt.pt\n"
     ]
    }
   ],
   "source": [
    "vocab, loaders = prepare(hparams)"
   ]
  },
  {
   "cell_type": "code",
   "execution_count": 4,
   "metadata": {},
   "outputs": [],
   "source": [
    "hparams['select'] = 'gating'\n",
    "sfiModel_gating = SFIModel_gating(hparams, vocab=vocab).to(hparams['device'])"
   ]
  },
  {
   "cell_type": "code",
   "execution_count": null,
   "metadata": {},
   "outputs": [],
   "source": [
    "train(sfiModel_gating, hparams, loaders, interval=10)"
   ]
  },
  {
   "cell_type": "code",
   "execution_count": null,
   "metadata": {},
   "outputs": [],
   "source": [
    "hparams['select'] = 'unified'\n",
    "sfiModel_unified = SFIModel_unified(hparams, vocab=vocab).to(hparams['device'])"
   ]
  },
  {
   "cell_type": "code",
   "execution_count": null,
   "metadata": {},
   "outputs": [],
   "source": [
    "train(sfiModel_unified, hparams, loaders, interval=10)"
   ]
  },
  {
   "cell_type": "code",
   "execution_count": null,
   "metadata": {},
   "outputs": [],
   "source": [
    "hparams['select'] = 'unified'\n",
    "hparams['integration'] = 'gate'\n",
    "sfiModel_unified = SFIModel_unified(hparams, vocab=vocab).to(hparams['device'])"
   ]
  },
  {
   "cell_type": "code",
   "execution_count": null,
   "metadata": {},
   "outputs": [],
   "source": [
    "train(sfiModel_unified, hparams, loaders, interval=10)"
   ]
  }
 ]
}